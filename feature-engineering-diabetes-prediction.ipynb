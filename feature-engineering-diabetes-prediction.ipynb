{
 "cells": [
  {
   "cell_type": "markdown",
   "id": "2c7f69be",
   "metadata": {
    "papermill": {
     "duration": 0.026115,
     "end_time": "2024-06-27T11:00:16.475358",
     "exception": false,
     "start_time": "2024-06-27T11:00:16.449243",
     "status": "completed"
    },
    "tags": []
   },
   "source": [
    "# Feature Engineering\n",
    "\n",
    "## 1. Business Problem\n",
    "\n",
    "Once the features are specified, a machine learning model has been developed to predict whether individuals have diabetes. Prior to developing the model, the necessary data analysis and feature engineering steps have been detailed.\n",
    "\n",
    "## 2. About Dataset\n",
    "\n",
    "The dataset is part of a large dataset maintained by the National Institute of Diabetes and Digestive and Kidney Diseases in the USA. The data was used for a diabetes study conducted on Pima Indian women aged 21 and older living in Phoenix, the fifth-largest city in Arizona, USA. The target variable is specified as ‘outcome’; 1 indicates a positive diabetes test result, while 0 indicates a negative result.\n",
    "\n",
    "* **Pregnancies:** Number of pregnancies\n",
    "* **Glucose:** 2-hour plasma glucose concentration in an oral glucose tolerance test\n",
    "* **Blood Pressure:** Blood Pressure (Diastolic) (mm Hg)\n",
    "* **SkinThickness:** Skin Thickness\n",
    "* **Insulin:** 2-hour serum insulin (mu U/ml)\n",
    "* **DiabetesPedigreeFunction:** Diabetes Pedigree Function\n",
    "* **BMI:** Body Mass Index\n",
    "* **Age:** Age (years)\n",
    "* **Outcome:** Whether the individual has the disease (1) or not (0)\n"
   ]
  },
  {
   "cell_type": "markdown",
   "id": "e49cafdb",
   "metadata": {
    "papermill": {
     "duration": 0.025592,
     "end_time": "2024-06-27T11:00:16.527879",
     "exception": false,
     "start_time": "2024-06-27T11:00:16.502287",
     "status": "completed"
    },
    "tags": []
   },
   "source": [
    "## 3. Data Preparing & Understanding"
   ]
  },
  {
   "cell_type": "code",
   "execution_count": 1,
   "id": "75fcb02b",
   "metadata": {
    "execution": {
     "iopub.execute_input": "2024-06-27T11:00:16.584283Z",
     "iopub.status.busy": "2024-06-27T11:00:16.583833Z",
     "iopub.status.idle": "2024-06-27T11:00:23.717526Z",
     "shell.execute_reply": "2024-06-27T11:00:23.716235Z"
    },
    "papermill": {
     "duration": 7.166218,
     "end_time": "2024-06-27T11:00:23.720841",
     "exception": false,
     "start_time": "2024-06-27T11:00:16.554623",
     "status": "completed"
    },
    "tags": []
   },
   "outputs": [
    {
     "name": "stdout",
     "output_type": "stream",
     "text": [
      "Requirement already satisfied: missingno in /opt/conda/lib/python3.10/site-packages (0.5.2)\r\n",
      "\u001b[31mERROR: Could not find a version that satisfies the requirement as (from versions: none)\u001b[0m\u001b[31m\r\n",
      "\u001b[0m\u001b[31mERROR: No matching distribution found for as\u001b[0m\u001b[31m\r\n",
      "\u001b[0m"
     ]
    }
   ],
   "source": [
    "import pandas as pd\n",
    "import matplotlib.pyplot as plt\n",
    "import seaborn as sns\n",
    "!pip install missingno as msno\n",
    "import numpy as np\n",
    "from datetime import date\n",
    "from sklearn.metrics import accuracy_score, precision_score, recall_score, f1_score,roc_auc_score\n",
    "from sklearn.model_selection import train_test_split\n",
    "from sklearn.neighbors import LocalOutlierFactor\n",
    "from sklearn.preprocessing import MinMaxScaler, StandardScaler,LabelEncoder,RobustScaler\n",
    "from sklearn.ensemble import RandomForestClassifier\n",
    "import warnings\n",
    "warnings.simplefilter(action=\"ignore\")\n",
    "\n",
    "\n",
    "pd.set_option('display.max_rows', None)\n",
    "pd.set_option('display.max_columns', None)\n",
    "pd.set_option('display.float_format', lambda x: '%.3f' % x)\n",
    "pd.set_option(\"display.width\", 500)"
   ]
  },
  {
   "cell_type": "code",
   "execution_count": 2,
   "id": "784a7326",
   "metadata": {
    "execution": {
     "iopub.execute_input": "2024-06-27T11:00:23.774703Z",
     "iopub.status.busy": "2024-06-27T11:00:23.774110Z",
     "iopub.status.idle": "2024-06-27T11:00:23.781055Z",
     "shell.execute_reply": "2024-06-27T11:00:23.779754Z"
    },
    "papermill": {
     "duration": 0.037148,
     "end_time": "2024-06-27T11:00:23.783786",
     "exception": false,
     "start_time": "2024-06-27T11:00:23.746638",
     "status": "completed"
    },
    "tags": []
   },
   "outputs": [],
   "source": [
    "# defining a function to upload the dataset\n",
    "\n",
    "def load():\n",
    "    df_ = pd.read_csv('/kaggle/input/diabetes-data/diabetes.csv')\n",
    "    df = df_.copy()\n",
    "    return df"
   ]
  },
  {
   "cell_type": "code",
   "execution_count": 3,
   "id": "02fad36d",
   "metadata": {
    "execution": {
     "iopub.execute_input": "2024-06-27T11:00:23.839184Z",
     "iopub.status.busy": "2024-06-27T11:00:23.838745Z",
     "iopub.status.idle": "2024-06-27T11:00:23.886888Z",
     "shell.execute_reply": "2024-06-27T11:00:23.885742Z"
    },
    "papermill": {
     "duration": 0.080178,
     "end_time": "2024-06-27T11:00:23.889852",
     "exception": false,
     "start_time": "2024-06-27T11:00:23.809674",
     "status": "completed"
    },
    "tags": []
   },
   "outputs": [
    {
     "data": {
      "text/html": [
       "<div>\n",
       "<style scoped>\n",
       "    .dataframe tbody tr th:only-of-type {\n",
       "        vertical-align: middle;\n",
       "    }\n",
       "\n",
       "    .dataframe tbody tr th {\n",
       "        vertical-align: top;\n",
       "    }\n",
       "\n",
       "    .dataframe thead th {\n",
       "        text-align: right;\n",
       "    }\n",
       "</style>\n",
       "<table border=\"1\" class=\"dataframe\">\n",
       "  <thead>\n",
       "    <tr style=\"text-align: right;\">\n",
       "      <th></th>\n",
       "      <th>Pregnancies</th>\n",
       "      <th>Glucose</th>\n",
       "      <th>BloodPressure</th>\n",
       "      <th>SkinThickness</th>\n",
       "      <th>Insulin</th>\n",
       "      <th>BMI</th>\n",
       "      <th>DiabetesPedigreeFunction</th>\n",
       "      <th>Age</th>\n",
       "      <th>Outcome</th>\n",
       "    </tr>\n",
       "  </thead>\n",
       "  <tbody>\n",
       "    <tr>\n",
       "      <th>0</th>\n",
       "      <td>6</td>\n",
       "      <td>148</td>\n",
       "      <td>72</td>\n",
       "      <td>35</td>\n",
       "      <td>0</td>\n",
       "      <td>33.600</td>\n",
       "      <td>0.627</td>\n",
       "      <td>50</td>\n",
       "      <td>1</td>\n",
       "    </tr>\n",
       "    <tr>\n",
       "      <th>1</th>\n",
       "      <td>1</td>\n",
       "      <td>85</td>\n",
       "      <td>66</td>\n",
       "      <td>29</td>\n",
       "      <td>0</td>\n",
       "      <td>26.600</td>\n",
       "      <td>0.351</td>\n",
       "      <td>31</td>\n",
       "      <td>0</td>\n",
       "    </tr>\n",
       "    <tr>\n",
       "      <th>2</th>\n",
       "      <td>8</td>\n",
       "      <td>183</td>\n",
       "      <td>64</td>\n",
       "      <td>0</td>\n",
       "      <td>0</td>\n",
       "      <td>23.300</td>\n",
       "      <td>0.672</td>\n",
       "      <td>32</td>\n",
       "      <td>1</td>\n",
       "    </tr>\n",
       "    <tr>\n",
       "      <th>3</th>\n",
       "      <td>1</td>\n",
       "      <td>89</td>\n",
       "      <td>66</td>\n",
       "      <td>23</td>\n",
       "      <td>94</td>\n",
       "      <td>28.100</td>\n",
       "      <td>0.167</td>\n",
       "      <td>21</td>\n",
       "      <td>0</td>\n",
       "    </tr>\n",
       "    <tr>\n",
       "      <th>4</th>\n",
       "      <td>0</td>\n",
       "      <td>137</td>\n",
       "      <td>40</td>\n",
       "      <td>35</td>\n",
       "      <td>168</td>\n",
       "      <td>43.100</td>\n",
       "      <td>2.288</td>\n",
       "      <td>33</td>\n",
       "      <td>1</td>\n",
       "    </tr>\n",
       "  </tbody>\n",
       "</table>\n",
       "</div>"
      ],
      "text/plain": [
       "   Pregnancies  Glucose  BloodPressure  SkinThickness  Insulin    BMI  DiabetesPedigreeFunction  Age  Outcome\n",
       "0            6      148             72             35        0 33.600                     0.627   50        1\n",
       "1            1       85             66             29        0 26.600                     0.351   31        0\n",
       "2            8      183             64              0        0 23.300                     0.672   32        1\n",
       "3            1       89             66             23       94 28.100                     0.167   21        0\n",
       "4            0      137             40             35      168 43.100                     2.288   33        1"
      ]
     },
     "execution_count": 3,
     "metadata": {},
     "output_type": "execute_result"
    }
   ],
   "source": [
    "df = load() # upload the dataset\n",
    "df.head() # #display first 5 rows"
   ]
  },
  {
   "cell_type": "code",
   "execution_count": 4,
   "id": "37c6b861",
   "metadata": {
    "execution": {
     "iopub.execute_input": "2024-06-27T11:00:23.945372Z",
     "iopub.status.busy": "2024-06-27T11:00:23.944939Z",
     "iopub.status.idle": "2024-06-27T11:00:23.953038Z",
     "shell.execute_reply": "2024-06-27T11:00:23.951811Z"
    },
    "papermill": {
     "duration": 0.039289,
     "end_time": "2024-06-27T11:00:23.955813",
     "exception": false,
     "start_time": "2024-06-27T11:00:23.916524",
     "status": "completed"
    },
    "tags": []
   },
   "outputs": [
    {
     "data": {
      "text/plain": [
       "(768, 9)"
      ]
     },
     "execution_count": 4,
     "metadata": {},
     "output_type": "execute_result"
    }
   ],
   "source": [
    "df.shape #display the shape of the dataset"
   ]
  },
  {
   "cell_type": "code",
   "execution_count": 5,
   "id": "17cdd919",
   "metadata": {
    "execution": {
     "iopub.execute_input": "2024-06-27T11:00:24.011368Z",
     "iopub.status.busy": "2024-06-27T11:00:24.010945Z",
     "iopub.status.idle": "2024-06-27T11:00:24.039480Z",
     "shell.execute_reply": "2024-06-27T11:00:24.037961Z"
    },
    "papermill": {
     "duration": 0.059637,
     "end_time": "2024-06-27T11:00:24.042565",
     "exception": false,
     "start_time": "2024-06-27T11:00:23.982928",
     "status": "completed"
    },
    "tags": []
   },
   "outputs": [
    {
     "name": "stdout",
     "output_type": "stream",
     "text": [
      "<class 'pandas.core.frame.DataFrame'>\n",
      "RangeIndex: 768 entries, 0 to 767\n",
      "Data columns (total 9 columns):\n",
      " #   Column                    Non-Null Count  Dtype  \n",
      "---  ------                    --------------  -----  \n",
      " 0   Pregnancies               768 non-null    int64  \n",
      " 1   Glucose                   768 non-null    int64  \n",
      " 2   BloodPressure             768 non-null    int64  \n",
      " 3   SkinThickness             768 non-null    int64  \n",
      " 4   Insulin                   768 non-null    int64  \n",
      " 5   BMI                       768 non-null    float64\n",
      " 6   DiabetesPedigreeFunction  768 non-null    float64\n",
      " 7   Age                       768 non-null    int64  \n",
      " 8   Outcome                   768 non-null    int64  \n",
      "dtypes: float64(2), int64(7)\n",
      "memory usage: 54.1 KB\n"
     ]
    }
   ],
   "source": [
    "df.info() #info about dataset"
   ]
  },
  {
   "cell_type": "code",
   "execution_count": 6,
   "id": "e2f102dd",
   "metadata": {
    "execution": {
     "iopub.execute_input": "2024-06-27T11:00:24.101457Z",
     "iopub.status.busy": "2024-06-27T11:00:24.101055Z",
     "iopub.status.idle": "2024-06-27T11:00:24.140682Z",
     "shell.execute_reply": "2024-06-27T11:00:24.139392Z"
    },
    "papermill": {
     "duration": 0.072372,
     "end_time": "2024-06-27T11:00:24.143536",
     "exception": false,
     "start_time": "2024-06-27T11:00:24.071164",
     "status": "completed"
    },
    "tags": []
   },
   "outputs": [
    {
     "data": {
      "text/html": [
       "<div>\n",
       "<style scoped>\n",
       "    .dataframe tbody tr th:only-of-type {\n",
       "        vertical-align: middle;\n",
       "    }\n",
       "\n",
       "    .dataframe tbody tr th {\n",
       "        vertical-align: top;\n",
       "    }\n",
       "\n",
       "    .dataframe thead th {\n",
       "        text-align: right;\n",
       "    }\n",
       "</style>\n",
       "<table border=\"1\" class=\"dataframe\">\n",
       "  <thead>\n",
       "    <tr style=\"text-align: right;\">\n",
       "      <th></th>\n",
       "      <th>count</th>\n",
       "      <th>mean</th>\n",
       "      <th>std</th>\n",
       "      <th>min</th>\n",
       "      <th>25%</th>\n",
       "      <th>50%</th>\n",
       "      <th>75%</th>\n",
       "      <th>max</th>\n",
       "    </tr>\n",
       "  </thead>\n",
       "  <tbody>\n",
       "    <tr>\n",
       "      <th>Pregnancies</th>\n",
       "      <td>768.000</td>\n",
       "      <td>3.845</td>\n",
       "      <td>3.370</td>\n",
       "      <td>0.000</td>\n",
       "      <td>1.000</td>\n",
       "      <td>3.000</td>\n",
       "      <td>6.000</td>\n",
       "      <td>17.000</td>\n",
       "    </tr>\n",
       "    <tr>\n",
       "      <th>Glucose</th>\n",
       "      <td>768.000</td>\n",
       "      <td>120.895</td>\n",
       "      <td>31.973</td>\n",
       "      <td>0.000</td>\n",
       "      <td>99.000</td>\n",
       "      <td>117.000</td>\n",
       "      <td>140.250</td>\n",
       "      <td>199.000</td>\n",
       "    </tr>\n",
       "    <tr>\n",
       "      <th>BloodPressure</th>\n",
       "      <td>768.000</td>\n",
       "      <td>69.105</td>\n",
       "      <td>19.356</td>\n",
       "      <td>0.000</td>\n",
       "      <td>62.000</td>\n",
       "      <td>72.000</td>\n",
       "      <td>80.000</td>\n",
       "      <td>122.000</td>\n",
       "    </tr>\n",
       "    <tr>\n",
       "      <th>SkinThickness</th>\n",
       "      <td>768.000</td>\n",
       "      <td>20.536</td>\n",
       "      <td>15.952</td>\n",
       "      <td>0.000</td>\n",
       "      <td>0.000</td>\n",
       "      <td>23.000</td>\n",
       "      <td>32.000</td>\n",
       "      <td>99.000</td>\n",
       "    </tr>\n",
       "    <tr>\n",
       "      <th>Insulin</th>\n",
       "      <td>768.000</td>\n",
       "      <td>79.799</td>\n",
       "      <td>115.244</td>\n",
       "      <td>0.000</td>\n",
       "      <td>0.000</td>\n",
       "      <td>30.500</td>\n",
       "      <td>127.250</td>\n",
       "      <td>846.000</td>\n",
       "    </tr>\n",
       "    <tr>\n",
       "      <th>BMI</th>\n",
       "      <td>768.000</td>\n",
       "      <td>31.993</td>\n",
       "      <td>7.884</td>\n",
       "      <td>0.000</td>\n",
       "      <td>27.300</td>\n",
       "      <td>32.000</td>\n",
       "      <td>36.600</td>\n",
       "      <td>67.100</td>\n",
       "    </tr>\n",
       "    <tr>\n",
       "      <th>DiabetesPedigreeFunction</th>\n",
       "      <td>768.000</td>\n",
       "      <td>0.472</td>\n",
       "      <td>0.331</td>\n",
       "      <td>0.078</td>\n",
       "      <td>0.244</td>\n",
       "      <td>0.372</td>\n",
       "      <td>0.626</td>\n",
       "      <td>2.420</td>\n",
       "    </tr>\n",
       "    <tr>\n",
       "      <th>Age</th>\n",
       "      <td>768.000</td>\n",
       "      <td>33.241</td>\n",
       "      <td>11.760</td>\n",
       "      <td>21.000</td>\n",
       "      <td>24.000</td>\n",
       "      <td>29.000</td>\n",
       "      <td>41.000</td>\n",
       "      <td>81.000</td>\n",
       "    </tr>\n",
       "    <tr>\n",
       "      <th>Outcome</th>\n",
       "      <td>768.000</td>\n",
       "      <td>0.349</td>\n",
       "      <td>0.477</td>\n",
       "      <td>0.000</td>\n",
       "      <td>0.000</td>\n",
       "      <td>0.000</td>\n",
       "      <td>1.000</td>\n",
       "      <td>1.000</td>\n",
       "    </tr>\n",
       "  </tbody>\n",
       "</table>\n",
       "</div>"
      ],
      "text/plain": [
       "                           count    mean     std    min    25%     50%     75%     max\n",
       "Pregnancies              768.000   3.845   3.370  0.000  1.000   3.000   6.000  17.000\n",
       "Glucose                  768.000 120.895  31.973  0.000 99.000 117.000 140.250 199.000\n",
       "BloodPressure            768.000  69.105  19.356  0.000 62.000  72.000  80.000 122.000\n",
       "SkinThickness            768.000  20.536  15.952  0.000  0.000  23.000  32.000  99.000\n",
       "Insulin                  768.000  79.799 115.244  0.000  0.000  30.500 127.250 846.000\n",
       "BMI                      768.000  31.993   7.884  0.000 27.300  32.000  36.600  67.100\n",
       "DiabetesPedigreeFunction 768.000   0.472   0.331  0.078  0.244   0.372   0.626   2.420\n",
       "Age                      768.000  33.241  11.760 21.000 24.000  29.000  41.000  81.000\n",
       "Outcome                  768.000   0.349   0.477  0.000  0.000   0.000   1.000   1.000"
      ]
     },
     "execution_count": 6,
     "metadata": {},
     "output_type": "execute_result"
    }
   ],
   "source": [
    "df.describe().T #descriptive statistics"
   ]
  },
  {
   "cell_type": "code",
   "execution_count": 7,
   "id": "864c92ef",
   "metadata": {
    "execution": {
     "iopub.execute_input": "2024-06-27T11:00:24.199217Z",
     "iopub.status.busy": "2024-06-27T11:00:24.198644Z",
     "iopub.status.idle": "2024-06-27T11:00:24.207279Z",
     "shell.execute_reply": "2024-06-27T11:00:24.205707Z"
    },
    "papermill": {
     "duration": 0.03943,
     "end_time": "2024-06-27T11:00:24.209845",
     "exception": false,
     "start_time": "2024-06-27T11:00:24.170415",
     "status": "completed"
    },
    "tags": []
   },
   "outputs": [
    {
     "data": {
      "text/plain": [
       "Index(['Pregnancies', 'Glucose', 'BloodPressure', 'SkinThickness', 'Insulin', 'BMI', 'DiabetesPedigreeFunction', 'Age', 'Outcome'], dtype='object')"
      ]
     },
     "execution_count": 7,
     "metadata": {},
     "output_type": "execute_result"
    }
   ],
   "source": [
    "df.columns # display the names of columns"
   ]
  },
  {
   "cell_type": "code",
   "execution_count": 8,
   "id": "61a8a885",
   "metadata": {
    "execution": {
     "iopub.execute_input": "2024-06-27T11:00:24.267351Z",
     "iopub.status.busy": "2024-06-27T11:00:24.266872Z",
     "iopub.status.idle": "2024-06-27T11:00:24.276796Z",
     "shell.execute_reply": "2024-06-27T11:00:24.275701Z"
    },
    "papermill": {
     "duration": 0.042048,
     "end_time": "2024-06-27T11:00:24.279323",
     "exception": false,
     "start_time": "2024-06-27T11:00:24.237275",
     "status": "completed"
    },
    "tags": []
   },
   "outputs": [
    {
     "data": {
      "text/plain": [
       "Pregnancies                 0\n",
       "Glucose                     0\n",
       "BloodPressure               0\n",
       "SkinThickness               0\n",
       "Insulin                     0\n",
       "BMI                         0\n",
       "DiabetesPedigreeFunction    0\n",
       "Age                         0\n",
       "Outcome                     0\n",
       "dtype: int64"
      ]
     },
     "execution_count": 8,
     "metadata": {},
     "output_type": "execute_result"
    }
   ],
   "source": [
    "df.isnull().sum() # null count"
   ]
  },
  {
   "cell_type": "code",
   "execution_count": 9,
   "id": "5b5dcb2b",
   "metadata": {
    "execution": {
     "iopub.execute_input": "2024-06-27T11:00:24.336688Z",
     "iopub.status.busy": "2024-06-27T11:00:24.336248Z",
     "iopub.status.idle": "2024-06-27T11:00:24.345401Z",
     "shell.execute_reply": "2024-06-27T11:00:24.343794Z"
    },
    "papermill": {
     "duration": 0.041768,
     "end_time": "2024-06-27T11:00:24.348387",
     "exception": false,
     "start_time": "2024-06-27T11:00:24.306619",
     "status": "completed"
    },
    "tags": []
   },
   "outputs": [
    {
     "data": {
      "text/plain": [
       "False"
      ]
     },
     "execution_count": 9,
     "metadata": {},
     "output_type": "execute_result"
    }
   ],
   "source": [
    "df.isnull().values.any() # checking the null values in the dataset "
   ]
  },
  {
   "cell_type": "code",
   "execution_count": 10,
   "id": "570b1a90",
   "metadata": {
    "execution": {
     "iopub.execute_input": "2024-06-27T11:00:24.406311Z",
     "iopub.status.busy": "2024-06-27T11:00:24.405864Z",
     "iopub.status.idle": "2024-06-27T11:00:24.453428Z",
     "shell.execute_reply": "2024-06-27T11:00:24.451858Z"
    },
    "papermill": {
     "duration": 0.079736,
     "end_time": "2024-06-27T11:00:24.456303",
     "exception": false,
     "start_time": "2024-06-27T11:00:24.376567",
     "status": "completed"
    },
    "tags": []
   },
   "outputs": [
    {
     "name": "stdout",
     "output_type": "stream",
     "text": [
      "##################### SHAPE ####################\n",
      "(768, 9)\n",
      "#################### COLUMNS ###################\n",
      "Index(['Pregnancies', 'Glucose', 'BloodPressure', 'SkinThickness', 'Insulin', 'BMI', 'DiabetesPedigreeFunction', 'Age', 'Outcome'], dtype='object')\n",
      "#################### INDEX ###################\n",
      "RangeIndex(start=0, stop=768, step=1)\n",
      "#################### TYPES ##################\n",
      "Pregnancies                   int64\n",
      "Glucose                       int64\n",
      "BloodPressure                 int64\n",
      "SkinThickness                 int64\n",
      "Insulin                       int64\n",
      "BMI                         float64\n",
      "DiabetesPedigreeFunction    float64\n",
      "Age                           int64\n",
      "Outcome                       int64\n",
      "dtype: object\n",
      "#################### HEAD ##################\n",
      "   Pregnancies  Glucose  BloodPressure  SkinThickness  Insulin    BMI  DiabetesPedigreeFunction  Age  Outcome\n",
      "0            6      148             72             35        0 33.600                     0.627   50        1\n",
      "1            1       85             66             29        0 26.600                     0.351   31        0\n",
      "2            8      183             64              0        0 23.300                     0.672   32        1\n",
      "3            1       89             66             23       94 28.100                     0.167   21        0\n",
      "4            0      137             40             35      168 43.100                     2.288   33        1\n",
      "#################### TAIL #################\n",
      "     Pregnancies  Glucose  BloodPressure  SkinThickness  Insulin    BMI  DiabetesPedigreeFunction  Age  Outcome\n",
      "763           10      101             76             48      180 32.900                     0.171   63        0\n",
      "764            2      122             70             27        0 36.800                     0.340   27        0\n",
      "765            5      121             72             23      112 26.200                     0.245   30        0\n",
      "766            1      126             60              0        0 30.100                     0.349   47        1\n",
      "767            1       93             70             31        0 30.400                     0.315   23        0\n",
      "#################### NA ANY ###################\n",
      "False\n",
      "#################### NA SUM ###################\n",
      "Pregnancies                 0\n",
      "Glucose                     0\n",
      "BloodPressure               0\n",
      "SkinThickness               0\n",
      "Insulin                     0\n",
      "BMI                         0\n",
      "DiabetesPedigreeFunction    0\n",
      "Age                         0\n",
      "Outcome                     0\n",
      "dtype: int64\n",
      "#################### QUANTILES ###############\n",
      "                           count    mean     std    min     0%     1%     5%    10%    20%     30%     40%     50%     60%     70%     80%     90%     95%     99%    100%     max\n",
      "Pregnancies              768.000   3.845   3.370  0.000  0.000  0.000  0.000  0.000  1.000   1.000   2.000   3.000   4.000   5.000   7.000   9.000  10.000  13.000  17.000  17.000\n",
      "Glucose                  768.000 120.895  31.973  0.000  0.000 57.000 79.000 85.000 95.000 102.000 109.000 117.000 125.000 134.000 147.000 167.000 181.000 196.000 199.000 199.000\n",
      "BloodPressure            768.000  69.105  19.356  0.000  0.000  0.000 38.700 54.000 60.000  64.000  68.000  72.000  74.000  78.000  82.000  88.000  90.000 106.000 122.000 122.000\n",
      "SkinThickness            768.000  20.536  15.952  0.000  0.000  0.000  0.000  0.000  0.000   8.200  18.000  23.000  27.000  31.000  35.000  40.000  44.000  51.330  99.000  99.000\n",
      "Insulin                  768.000  79.799 115.244  0.000  0.000  0.000  0.000  0.000  0.000   0.000   0.000  30.500  72.200 106.000 150.000 210.000 293.000 519.900 846.000 846.000\n",
      "BMI                      768.000  31.993   7.884  0.000  0.000  0.000 21.800 23.600 25.900  28.200  30.100  32.000  33.700  35.490  37.800  41.500  44.395  50.759  67.100  67.100\n",
      "DiabetesPedigreeFunction 768.000   0.472   0.331  0.078  0.078  0.095  0.140  0.165  0.219   0.259   0.303   0.372   0.454   0.564   0.687   0.879   1.133   1.698   2.420   2.420\n",
      "Age                      768.000  33.241  11.760 21.000 21.000 21.000 21.000 22.000 23.000  25.000  27.000  29.000  33.000  38.000  42.600  51.000  58.000  67.000  81.000  81.000\n",
      "Outcome                  768.000   0.349   0.477  0.000  0.000  0.000  0.000  0.000  0.000   0.000   0.000   0.000   0.000   1.000   1.000   1.000   1.000   1.000   1.000   1.000\n"
     ]
    }
   ],
   "source": [
    "# defining function to check all: \n",
    "\n",
    "def check_df(dataframe,head = 5):\n",
    "    print(\"##################### SHAPE ####################\")\n",
    "    print(dataframe.shape)\n",
    "    print(\"#################### COLUMNS ###################\")\n",
    "    print(dataframe.columns)\n",
    "    print(\"#################### INDEX ###################\")\n",
    "    print(dataframe.index)\n",
    "    print(\"#################### TYPES ##################\")\n",
    "    print(dataframe.dtypes)\n",
    "    print(\"#################### HEAD ##################\")\n",
    "    print(dataframe.head(head))\n",
    "    print(\"#################### TAIL #################\")\n",
    "    print(dataframe.tail(head))\n",
    "    print(\"#################### NA ANY ###################\")\n",
    "    print(dataframe.isnull().values.any())\n",
    "    print(\"#################### NA SUM ###################\")\n",
    "    print(dataframe.isnull().sum())\n",
    "    print(\"#################### QUANTILES ###############\")\n",
    "    print(dataframe.describe([0,0.01,0.05,0.10,0.20,0.30,0.40,0.50,0.60,0.70,0.80,0.90,0.95,0.99,1]).T)\n",
    "\n",
    "check_df(df)"
   ]
  },
  {
   "cell_type": "code",
   "execution_count": 11,
   "id": "dc642964",
   "metadata": {
    "execution": {
     "iopub.execute_input": "2024-06-27T11:00:24.577438Z",
     "iopub.status.busy": "2024-06-27T11:00:24.577025Z",
     "iopub.status.idle": "2024-06-27T11:00:24.592879Z",
     "shell.execute_reply": "2024-06-27T11:00:24.591289Z"
    },
    "papermill": {
     "duration": 0.049583,
     "end_time": "2024-06-27T11:00:24.596125",
     "exception": false,
     "start_time": "2024-06-27T11:00:24.546542",
     "status": "completed"
    },
    "tags": []
   },
   "outputs": [],
   "source": [
    "# Capturing numeric and categorical variables:\n",
    "\n",
    "def grab_col_names(dataframe, cat_th = 10, car_th = 20):\n",
    "    # cat_cols, cat_but_car:\n",
    "    cat_cols = [col for col in dataframe.columns if dataframe[col].dtypes == \"O\"]\n",
    "    num_but_cat = [col for col in dataframe.columns if dataframe[col].nunique() < cat_th and dataframe[col].dtypes != \"O\"]\n",
    "    cat_but_car = [col for col in df.columns if dataframe[col].nunique() > car_th and dataframe[col].dtypes == \"O\"]\n",
    "    cat_cols = cat_cols + num_but_cat\n",
    "    cat_cols = [col for col in cat_cols if col not in cat_but_car]\n",
    "    # num_cols:\n",
    "    num_cols = [col for col in dataframe.columns if dataframe[col].dtypes != \"O\"]\n",
    "    num_cols = [col for col in num_cols if col not in num_but_cat]\n",
    "    return cat_cols, num_cols , cat_but_car\n",
    "\n",
    "cat_cols, num_cols , cat_but_car = grab_col_names(df)"
   ]
  },
  {
   "cell_type": "code",
   "execution_count": 12,
   "id": "c87e9260",
   "metadata": {
    "execution": {
     "iopub.execute_input": "2024-06-27T11:00:24.659092Z",
     "iopub.status.busy": "2024-06-27T11:00:24.658605Z",
     "iopub.status.idle": "2024-06-27T11:00:24.667358Z",
     "shell.execute_reply": "2024-06-27T11:00:24.666111Z"
    },
    "papermill": {
     "duration": 0.045238,
     "end_time": "2024-06-27T11:00:24.670639",
     "exception": false,
     "start_time": "2024-06-27T11:00:24.625401",
     "status": "completed"
    },
    "tags": []
   },
   "outputs": [
    {
     "data": {
      "text/plain": [
       "['Outcome']"
      ]
     },
     "execution_count": 12,
     "metadata": {},
     "output_type": "execute_result"
    }
   ],
   "source": [
    "cat_cols # categorical columns"
   ]
  },
  {
   "cell_type": "code",
   "execution_count": 13,
   "id": "484b0d89",
   "metadata": {
    "execution": {
     "iopub.execute_input": "2024-06-27T11:00:24.730713Z",
     "iopub.status.busy": "2024-06-27T11:00:24.730268Z",
     "iopub.status.idle": "2024-06-27T11:00:24.738455Z",
     "shell.execute_reply": "2024-06-27T11:00:24.737210Z"
    },
    "papermill": {
     "duration": 0.041574,
     "end_time": "2024-06-27T11:00:24.741152",
     "exception": false,
     "start_time": "2024-06-27T11:00:24.699578",
     "status": "completed"
    },
    "tags": []
   },
   "outputs": [
    {
     "data": {
      "text/plain": [
       "['Pregnancies',\n",
       " 'Glucose',\n",
       " 'BloodPressure',\n",
       " 'SkinThickness',\n",
       " 'Insulin',\n",
       " 'BMI',\n",
       " 'DiabetesPedigreeFunction',\n",
       " 'Age']"
      ]
     },
     "execution_count": 13,
     "metadata": {},
     "output_type": "execute_result"
    }
   ],
   "source": [
    "num_cols # numeric columns"
   ]
  },
  {
   "cell_type": "code",
   "execution_count": 14,
   "id": "534c658e",
   "metadata": {
    "execution": {
     "iopub.execute_input": "2024-06-27T11:00:24.801417Z",
     "iopub.status.busy": "2024-06-27T11:00:24.800967Z",
     "iopub.status.idle": "2024-06-27T11:00:24.809205Z",
     "shell.execute_reply": "2024-06-27T11:00:24.807986Z"
    },
    "papermill": {
     "duration": 0.042233,
     "end_time": "2024-06-27T11:00:24.812267",
     "exception": false,
     "start_time": "2024-06-27T11:00:24.770034",
     "status": "completed"
    },
    "tags": []
   },
   "outputs": [
    {
     "data": {
      "text/plain": [
       "[]"
      ]
     },
     "execution_count": 14,
     "metadata": {},
     "output_type": "execute_result"
    }
   ],
   "source": [
    "cat_but_car # categorical type but cardinal columns"
   ]
  },
  {
   "cell_type": "markdown",
   "id": "55ddd7e9",
   "metadata": {
    "papermill": {
     "duration": 0.028859,
     "end_time": "2024-06-27T11:00:24.872452",
     "exception": false,
     "start_time": "2024-06-27T11:00:24.843593",
     "status": "completed"
    },
    "tags": []
   },
   "source": [
    "### 3.1 Analysis of Categorical Variables"
   ]
  },
  {
   "cell_type": "code",
   "execution_count": 15,
   "id": "14f6ed5f",
   "metadata": {
    "execution": {
     "iopub.execute_input": "2024-06-27T11:00:24.931153Z",
     "iopub.status.busy": "2024-06-27T11:00:24.930717Z",
     "iopub.status.idle": "2024-06-27T11:00:24.939591Z",
     "shell.execute_reply": "2024-06-27T11:00:24.938417Z"
    },
    "papermill": {
     "duration": 0.042311,
     "end_time": "2024-06-27T11:00:24.942980",
     "exception": false,
     "start_time": "2024-06-27T11:00:24.900669",
     "status": "completed"
    },
    "tags": []
   },
   "outputs": [],
   "source": [
    "# defining a function to check summary of the categorical variables:\n",
    "\n",
    "def cat_summary(dataframe,col_name,plot = False):\n",
    "    print(f\"################################# {col} Counts - Ratio #####################################\")\n",
    "    print(pd.DataFrame({col_name: dataframe[col_name].value_counts(),\n",
    "                        \"Ratio\": 100 * dataframe[col_name].value_counts() / len(dataframe)}))\n",
    "    print(\"################################# Unique Variable Counts #####################################\")\n",
    "    print(f\"{col} : {dataframe[col_name].nunique()}\")\n",
    "    print(f\"############################## {col} Counts - Ratio Visualizing ############################\")\n",
    "    if plot:\n",
    "        sns.countplot(x = dataframe[col_name], data = dataframe)\n",
    "        plt.show(block = True)"
   ]
  },
  {
   "cell_type": "code",
   "execution_count": 16,
   "id": "574f573a",
   "metadata": {
    "execution": {
     "iopub.execute_input": "2024-06-27T11:00:25.001546Z",
     "iopub.status.busy": "2024-06-27T11:00:25.001158Z",
     "iopub.status.idle": "2024-06-27T11:00:25.265693Z",
     "shell.execute_reply": "2024-06-27T11:00:25.264246Z"
    },
    "papermill": {
     "duration": 0.29705,
     "end_time": "2024-06-27T11:00:25.268667",
     "exception": false,
     "start_time": "2024-06-27T11:00:24.971617",
     "status": "completed"
    },
    "tags": []
   },
   "outputs": [
    {
     "name": "stdout",
     "output_type": "stream",
     "text": [
      "################################# Outcome Counts - Ratio #####################################\n",
      "         Outcome  Ratio\n",
      "Outcome                \n",
      "0            500 65.104\n",
      "1            268 34.896\n",
      "################################# Unique Variable Counts #####################################\n",
      "Outcome : 2\n",
      "############################## Outcome Counts - Ratio Visualizing ############################\n"
     ]
    },
    {
     "data": {
      "image/png": "[encoded data removed]",
      "text/plain": [
       "<Figure size 640x480 with 1 Axes>"
      ]
     },
     "metadata": {},
     "output_type": "display_data"
    }
   ],
   "source": [
    "# applying the function:\n",
    "\n",
    "for col in cat_cols:\n",
    "    cat_summary(df, col, plot = True)"
   ]
  },
  {
   "cell_type": "markdown",
   "id": "f7bf87c8",
   "metadata": {
    "papermill": {
     "duration": 0.028967,
     "end_time": "2024-06-27T11:00:25.327133",
     "exception": false,
     "start_time": "2024-06-27T11:00:25.298166",
     "status": "completed"
    },
    "tags": []
   },
   "source": [
    "### 3.2 Analysis of Numerical Variables"
   ]
  },
  {
   "cell_type": "code",
   "execution_count": 17,
   "id": "f14575df",
   "metadata": {
    "execution": {
     "iopub.execute_input": "2024-06-27T11:00:25.388832Z",
     "iopub.status.busy": "2024-06-27T11:00:25.388404Z",
     "iopub.status.idle": "2024-06-27T11:00:25.396376Z",
     "shell.execute_reply": "2024-06-27T11:00:25.394974Z"
    },
    "papermill": {
     "duration": 0.041674,
     "end_time": "2024-06-27T11:00:25.398981",
     "exception": false,
     "start_time": "2024-06-27T11:00:25.357307",
     "status": "completed"
    },
    "tags": []
   },
   "outputs": [],
   "source": [
    "# defining a function to check summary of the numerical variables:\n",
    "\n",
    "def num_summary(dataframe,col_name,plot = False, quantiles = [0.05, 0.10, 0.20, 0.50, 0.60, 0.80, 0.90, 0.95, 0.99]):\n",
    "    if plot:\n",
    "        dataframe[col_name].hist()\n",
    "        plt.xlabel(col_name)\n",
    "        plt.title(col_name)\n",
    "        plt.show(block = True)\n",
    "    print(\"#################### QUANTILES ###############\")\n",
    "    print(dataframe[col_name].describe(quantiles).T, end= \"\\n\\n\")"
   ]
  },
  {
   "cell_type": "code",
   "execution_count": 18,
   "id": "4879d345",
   "metadata": {
    "execution": {
     "iopub.execute_input": "2024-06-27T11:00:25.459869Z",
     "iopub.status.busy": "2024-06-27T11:00:25.459391Z",
     "iopub.status.idle": "2024-06-27T11:00:26.865773Z",
     "shell.execute_reply": "2024-06-27T11:00:26.864267Z"
    },
    "papermill": {
     "duration": 1.439913,
     "end_time": "2024-06-27T11:00:26.868565",
     "exception": false,
     "start_time": "2024-06-27T11:00:25.428652",
     "status": "completed"
    },
    "tags": []
   },
   "outputs": [
    {
     "data": {
      "image/png": "[encoded data removed]",
      "text/plain": [
       "<Figure size 640x480 with 9 Axes>"
      ]
     },
     "metadata": {},
     "output_type": "display_data"
    },
    {
     "name": "stdout",
     "output_type": "stream",
     "text": [
      "#################### QUANTILES ###############\n",
      "                           count    mean     std    min     5%    10%    20%     50%     60%     80%     90%     95%     99%     max\n",
      "Pregnancies              768.000   3.845   3.370  0.000  0.000  0.000  1.000   3.000   4.000   7.000   9.000  10.000  13.000  17.000\n",
      "Glucose                  768.000 120.895  31.973  0.000 79.000 85.000 95.000 117.000 125.000 147.000 167.000 181.000 196.000 199.000\n",
      "BloodPressure            768.000  69.105  19.356  0.000 38.700 54.000 60.000  72.000  74.000  82.000  88.000  90.000 106.000 122.000\n",
      "SkinThickness            768.000  20.536  15.952  0.000  0.000  0.000  0.000  23.000  27.000  35.000  40.000  44.000  51.330  99.000\n",
      "Insulin                  768.000  79.799 115.244  0.000  0.000  0.000  0.000  30.500  72.200 150.000 210.000 293.000 519.900 846.000\n",
      "BMI                      768.000  31.993   7.884  0.000 21.800 23.600 25.900  32.000  33.700  37.800  41.500  44.395  50.759  67.100\n",
      "DiabetesPedigreeFunction 768.000   0.472   0.331  0.078  0.140  0.165  0.219   0.372   0.454   0.687   0.879   1.133   1.698   2.420\n",
      "Age                      768.000  33.241  11.760 21.000 21.000 22.000 23.000  29.000  33.000  42.600  51.000  58.000  67.000  81.000\n",
      "\n"
     ]
    }
   ],
   "source": [
    "# applying the function:\n",
    "\n",
    "num_summary(df, num_cols, plot = True)"
   ]
  },
  {
   "cell_type": "markdown",
   "id": "0427890b",
   "metadata": {
    "papermill": {
     "duration": 0.03106,
     "end_time": "2024-06-27T11:00:26.928933",
     "exception": false,
     "start_time": "2024-06-27T11:00:26.897873",
     "status": "completed"
    },
    "tags": []
   },
   "source": [
    "### 3.3 Target Variable Analysis"
   ]
  },
  {
   "cell_type": "code",
   "execution_count": 19,
   "id": "5a42c695",
   "metadata": {
    "execution": {
     "iopub.execute_input": "2024-06-27T11:00:26.990324Z",
     "iopub.status.busy": "2024-06-27T11:00:26.989852Z",
     "iopub.status.idle": "2024-06-27T11:00:26.995237Z",
     "shell.execute_reply": "2024-06-27T11:00:26.994046Z"
    },
    "papermill": {
     "duration": 0.039106,
     "end_time": "2024-06-27T11:00:26.997901",
     "exception": false,
     "start_time": "2024-06-27T11:00:26.958795",
     "status": "completed"
    },
    "tags": []
   },
   "outputs": [],
   "source": [
    "# Target - Categorical Variables"
   ]
  },
  {
   "cell_type": "code",
   "execution_count": 20,
   "id": "a0be1c7c",
   "metadata": {
    "execution": {
     "iopub.execute_input": "2024-06-27T11:00:27.061005Z",
     "iopub.status.busy": "2024-06-27T11:00:27.060547Z",
     "iopub.status.idle": "2024-06-27T11:00:27.067093Z",
     "shell.execute_reply": "2024-06-27T11:00:27.065810Z"
    },
    "papermill": {
     "duration": 0.040838,
     "end_time": "2024-06-27T11:00:27.069408",
     "exception": false,
     "start_time": "2024-06-27T11:00:27.028570",
     "status": "completed"
    },
    "tags": []
   },
   "outputs": [],
   "source": [
    "# defining a function to check summary of the target and categorical variables:\n",
    "\n",
    "def target_summary_with_cat(dataframe,target,categorical_col):\n",
    "    print(pd.DataFrame({\"Target_Mean\": dataframe.groupby(categorical_col)[target].mean()}), end = \"\\n\\n\\n\")\n"
   ]
  },
  {
   "cell_type": "code",
   "execution_count": 21,
   "id": "1e7269f9",
   "metadata": {
    "execution": {
     "iopub.execute_input": "2024-06-27T11:00:27.132743Z",
     "iopub.status.busy": "2024-06-27T11:00:27.132322Z",
     "iopub.status.idle": "2024-06-27T11:00:27.144690Z",
     "shell.execute_reply": "2024-06-27T11:00:27.143378Z"
    },
    "papermill": {
     "duration": 0.047962,
     "end_time": "2024-06-27T11:00:27.148425",
     "exception": false,
     "start_time": "2024-06-27T11:00:27.100463",
     "status": "completed"
    },
    "tags": []
   },
   "outputs": [
    {
     "name": "stdout",
     "output_type": "stream",
     "text": [
      "         Target_Mean\n",
      "Outcome             \n",
      "0              0.000\n",
      "1              1.000\n",
      "\n",
      "\n"
     ]
    }
   ],
   "source": [
    "# applying the function:\n",
    "\n",
    "for col in cat_cols:\n",
    "    target_summary_with_cat(df, \"Outcome\", col)"
   ]
  },
  {
   "cell_type": "code",
   "execution_count": 22,
   "id": "e7e72083",
   "metadata": {
    "execution": {
     "iopub.execute_input": "2024-06-27T11:00:27.210085Z",
     "iopub.status.busy": "2024-06-27T11:00:27.209021Z",
     "iopub.status.idle": "2024-06-27T11:00:27.215478Z",
     "shell.execute_reply": "2024-06-27T11:00:27.214032Z"
    },
    "papermill": {
     "duration": 0.040369,
     "end_time": "2024-06-27T11:00:27.218652",
     "exception": false,
     "start_time": "2024-06-27T11:00:27.178283",
     "status": "completed"
    },
    "tags": []
   },
   "outputs": [],
   "source": [
    "# Target - Numerical Variables"
   ]
  },
  {
   "cell_type": "code",
   "execution_count": 23,
   "id": "99145941",
   "metadata": {
    "execution": {
     "iopub.execute_input": "2024-06-27T11:00:27.282298Z",
     "iopub.status.busy": "2024-06-27T11:00:27.281303Z",
     "iopub.status.idle": "2024-06-27T11:00:27.289134Z",
     "shell.execute_reply": "2024-06-27T11:00:27.287724Z"
    },
    "papermill": {
     "duration": 0.042234,
     "end_time": "2024-06-27T11:00:27.291712",
     "exception": false,
     "start_time": "2024-06-27T11:00:27.249478",
     "status": "completed"
    },
    "tags": []
   },
   "outputs": [],
   "source": [
    "# defining a function to check summary of the target and numerical variables:\n",
    "\n",
    "def target_summary_with_num(dataframe,target,numerical_col):\n",
    "    print(f\"##################### {numerical_col} Describe ####################################\")\n",
    "    print(pd.DataFrame({numerical_col: dataframe[numerical_col].describe().T}), end = \"\\n\\n\\n\")\n",
    "    print(print(f\"####################### {target} - {numerical_col} Mean #################################\"))\n",
    "    print(dataframe.groupby(target).agg({numerical_col:\"mean\"}), end = \"\\n\\n\\n\")"
   ]
  },
  {
   "cell_type": "code",
   "execution_count": 24,
   "id": "e0e16c3e",
   "metadata": {
    "execution": {
     "iopub.execute_input": "2024-06-27T11:00:27.357666Z",
     "iopub.status.busy": "2024-06-27T11:00:27.357258Z",
     "iopub.status.idle": "2024-06-27T11:00:27.417547Z",
     "shell.execute_reply": "2024-06-27T11:00:27.416103Z"
    },
    "papermill": {
     "duration": 0.097986,
     "end_time": "2024-06-27T11:00:27.421375",
     "exception": false,
     "start_time": "2024-06-27T11:00:27.323389",
     "status": "completed"
    },
    "tags": []
   },
   "outputs": [
    {
     "name": "stdout",
     "output_type": "stream",
     "text": [
      "##################### Pregnancies Describe ####################################\n",
      "       Pregnancies\n",
      "count      768.000\n",
      "mean         3.845\n",
      "std          3.370\n",
      "min          0.000\n",
      "25%          1.000\n",
      "50%          3.000\n",
      "75%          6.000\n",
      "max         17.000\n",
      "\n",
      "\n",
      "####################### Outcome - Pregnancies Mean #################################\n",
      "None\n",
      "         Pregnancies\n",
      "Outcome             \n",
      "0              3.298\n",
      "1              4.866\n",
      "\n",
      "\n",
      "##################### Glucose Describe ####################################\n",
      "       Glucose\n",
      "count  768.000\n",
      "mean   120.895\n",
      "std     31.973\n",
      "min      0.000\n",
      "25%     99.000\n",
      "50%    117.000\n",
      "75%    140.250\n",
      "max    199.000\n",
      "\n",
      "\n",
      "####################### Outcome - Glucose Mean #################################\n",
      "None\n",
      "         Glucose\n",
      "Outcome         \n",
      "0        109.980\n",
      "1        141.257\n",
      "\n",
      "\n",
      "##################### BloodPressure Describe ####################################\n",
      "       BloodPressure\n",
      "count        768.000\n",
      "mean          69.105\n",
      "std           19.356\n",
      "min            0.000\n",
      "25%           62.000\n",
      "50%           72.000\n",
      "75%           80.000\n",
      "max          122.000\n",
      "\n",
      "\n",
      "####################### Outcome - BloodPressure Mean #################################\n",
      "None\n",
      "         BloodPressure\n",
      "Outcome               \n",
      "0               68.184\n",
      "1               70.825\n",
      "\n",
      "\n",
      "##################### SkinThickness Describe ####################################\n",
      "       SkinThickness\n",
      "count        768.000\n",
      "mean          20.536\n",
      "std           15.952\n",
      "min            0.000\n",
      "25%            0.000\n",
      "50%           23.000\n",
      "75%           32.000\n",
      "max           99.000\n",
      "\n",
      "\n",
      "####################### Outcome - SkinThickness Mean #################################\n",
      "None\n",
      "         SkinThickness\n",
      "Outcome               \n",
      "0               19.664\n",
      "1               22.164\n",
      "\n",
      "\n",
      "##################### Insulin Describe ####################################\n",
      "       Insulin\n",
      "count  768.000\n",
      "mean    79.799\n",
      "std    115.244\n",
      "min      0.000\n",
      "25%      0.000\n",
      "50%     30.500\n",
      "75%    127.250\n",
      "max    846.000\n",
      "\n",
      "\n",
      "####################### Outcome - Insulin Mean #################################\n",
      "None\n",
      "         Insulin\n",
      "Outcome         \n",
      "0         68.792\n",
      "1        100.336\n",
      "\n",
      "\n",
      "##################### BMI Describe ####################################\n",
      "          BMI\n",
      "count 768.000\n",
      "mean   31.993\n",
      "std     7.884\n",
      "min     0.000\n",
      "25%    27.300\n",
      "50%    32.000\n",
      "75%    36.600\n",
      "max    67.100\n",
      "\n",
      "\n",
      "####################### Outcome - BMI Mean #################################\n",
      "None\n",
      "           BMI\n",
      "Outcome       \n",
      "0       30.304\n",
      "1       35.143\n",
      "\n",
      "\n",
      "##################### DiabetesPedigreeFunction Describe ####################################\n",
      "       DiabetesPedigreeFunction\n",
      "count                   768.000\n",
      "mean                      0.472\n",
      "std                       0.331\n",
      "min                       0.078\n",
      "25%                       0.244\n",
      "50%                       0.372\n",
      "75%                       0.626\n",
      "max                       2.420\n",
      "\n",
      "\n",
      "####################### Outcome - DiabetesPedigreeFunction Mean #################################\n",
      "None\n",
      "         DiabetesPedigreeFunction\n",
      "Outcome                          \n",
      "0                           0.430\n",
      "1                           0.550\n",
      "\n",
      "\n",
      "##################### Age Describe ####################################\n",
      "          Age\n",
      "count 768.000\n",
      "mean   33.241\n",
      "std    11.760\n",
      "min    21.000\n",
      "25%    24.000\n",
      "50%    29.000\n",
      "75%    41.000\n",
      "max    81.000\n",
      "\n",
      "\n",
      "####################### Outcome - Age Mean #################################\n",
      "None\n",
      "           Age\n",
      "Outcome       \n",
      "0       31.190\n",
      "1       37.067\n",
      "\n",
      "\n"
     ]
    }
   ],
   "source": [
    "# applying the function:\n",
    "\n",
    "for col in num_cols:\n",
    "    target_summary_with_num(df, \"Outcome\", col)"
   ]
  },
  {
   "cell_type": "markdown",
   "id": "b5f80d66",
   "metadata": {
    "papermill": {
     "duration": 0.030312,
     "end_time": "2024-06-27T11:00:27.482638",
     "exception": false,
     "start_time": "2024-06-27T11:00:27.452326",
     "status": "completed"
    },
    "tags": []
   },
   "source": [
    "### 3.4 Outlier Analysis"
   ]
  },
  {
   "cell_type": "code",
   "execution_count": 25,
   "id": "4cf406e0",
   "metadata": {
    "execution": {
     "iopub.execute_input": "2024-06-27T11:00:27.546627Z",
     "iopub.status.busy": "2024-06-27T11:00:27.546218Z",
     "iopub.status.idle": "2024-06-27T11:00:29.350777Z",
     "shell.execute_reply": "2024-06-27T11:00:29.349549Z"
    },
    "papermill": {
     "duration": 1.841036,
     "end_time": "2024-06-27T11:00:29.353619",
     "exception": false,
     "start_time": "2024-06-27T11:00:27.512583",
     "status": "completed"
    },
    "tags": []
   },
   "outputs": [
    {
     "data": {
      "image/png": "[encoded data removed]",
      "text/plain": [
       "<Figure size 640x480 with 1 Axes>"
      ]
     },
     "metadata": {},
     "output_type": "display_data"
    },
    {
     "data": {
      "image/png": "[encoded data removed]",
      "text/plain": [
       "<Figure size 640x480 with 1 Axes>"
      ]
     },
     "metadata": {},
     "output_type": "display_data"
    },
    {
     "data": {
      "image/png": "[encoded data removed]",
      "text/plain": [
       "<Figure size 640x480 with 1 Axes>"
      ]
     },
     "metadata": {},
     "output_type": "display_data"
    },
    {
     "data": {
      "image/png": "[encoded data removed]",
      "text/plain": [
       "<Figure size 640x480 with 1 Axes>"
      ]
     },
     "metadata": {},
     "output_type": "display_data"
    },
    {
     "data": {
      "image/png": "[encoded data removed]",
      "text/plain": [
       "<Figure size 640x480 with 1 Axes>"
      ]
     },
     "metadata": {},
     "output_type": "display_data"
    },
    {
     "data": {
      "image/png": "[encoded data removed]",
      "text/plain": [
       "<Figure size 640x480 with 1 Axes>"
      ]
     },
     "metadata": {},
     "output_type": "display_data"
    },
    {
     "data": {
      "image/png": "[encoded data removed]",
      "text/plain": [
       "<Figure size 640x480 with 1 Axes>"
      ]
     },
     "metadata": {},
     "output_type": "display_data"
    },
    {
     "data": {
      "image/png": "[encoded data removed]",
      "text/plain": [
       "<Figure size 640x480 with 1 Axes>"
      ]
     },
     "metadata": {},
     "output_type": "display_data"
    }
   ],
   "source": [
    "# outlier analysis using graphical techniques:\n",
    "\n",
    "for col in num_cols:\n",
    "    sns.boxplot(x= df[col])\n",
    "    plt.show()\n",
    "    "
   ]
  },
  {
   "cell_type": "code",
   "execution_count": 26,
   "id": "d0e79490",
   "metadata": {
    "execution": {
     "iopub.execute_input": "2024-06-27T11:00:29.421245Z",
     "iopub.status.busy": "2024-06-27T11:00:29.420750Z",
     "iopub.status.idle": "2024-06-27T11:00:29.427610Z",
     "shell.execute_reply": "2024-06-27T11:00:29.426386Z"
    },
    "papermill": {
     "duration": 0.044066,
     "end_time": "2024-06-27T11:00:29.430249",
     "exception": false,
     "start_time": "2024-06-27T11:00:29.386183",
     "status": "completed"
    },
    "tags": []
   },
   "outputs": [],
   "source": [
    "# calculating ouitlier thresholds:\n",
    "\n",
    "def outlier_thresholds(dataframe,col_name,q1=0.05,q3=0.95):\n",
    "    quartile1 = dataframe[col_name].quantile(q1)\n",
    "    quartile3 = dataframe[col_name].quantile(q3)\n",
    "    interquantile_range = quartile3 - quartile1\n",
    "    up_limit = quartile3 + 1.5*interquantile_range\n",
    "    low_limit = quartile1 - 1.5*interquantile_range\n",
    "    return low_limit, up_limit"
   ]
  },
  {
   "cell_type": "code",
   "execution_count": 27,
   "id": "467b03cb",
   "metadata": {
    "execution": {
     "iopub.execute_input": "2024-06-27T11:00:29.498165Z",
     "iopub.status.busy": "2024-06-27T11:00:29.497722Z",
     "iopub.status.idle": "2024-06-27T11:00:29.504592Z",
     "shell.execute_reply": "2024-06-27T11:00:29.503296Z"
    },
    "papermill": {
     "duration": 0.043552,
     "end_time": "2024-06-27T11:00:29.507436",
     "exception": false,
     "start_time": "2024-06-27T11:00:29.463884",
     "status": "completed"
    },
    "tags": []
   },
   "outputs": [],
   "source": [
    "# checking outlier in the dataframe:\n",
    "\n",
    "def check_outlier(dataframe,col_name):\n",
    "    low, up = outlier_thresholds(df,col_name)\n",
    "    if dataframe[(dataframe[col_name] > up) | (dataframe[col_name] < low)].any(axis=None):\n",
    "        return True\n",
    "    else:\n",
    "        return False"
   ]
  },
  {
   "cell_type": "code",
   "execution_count": 28,
   "id": "69f91b97",
   "metadata": {
    "execution": {
     "iopub.execute_input": "2024-06-27T11:00:29.573650Z",
     "iopub.status.busy": "2024-06-27T11:00:29.573222Z",
     "iopub.status.idle": "2024-06-27T11:00:29.620325Z",
     "shell.execute_reply": "2024-06-27T11:00:29.618757Z"
    },
    "papermill": {
     "duration": 0.08454,
     "end_time": "2024-06-27T11:00:29.624265",
     "exception": false,
     "start_time": "2024-06-27T11:00:29.539725",
     "status": "completed"
    },
    "tags": []
   },
   "outputs": [
    {
     "name": "stdout",
     "output_type": "stream",
     "text": [
      "################# Numeric Columns Outlier Thresholds: Low & Up Limit  #####################\n",
      "Pregnancies : low: -15.0, up: 25.0\n",
      "Glucose : low: -74.0, up: 334.0\n",
      "BloodPressure : low: -38.249999999999986, up: 166.95\n",
      "SkinThickness : low: -66.0, up: 110.0\n",
      "Insulin : low: -439.5, up: 732.5\n",
      "BMI : low: -12.09249999999999, up: 78.2875\n",
      "DiabetesPedigreeFunction : low: -1.3483999999999996, up: 2.621599999999999\n",
      "Age : low: -34.5, up: 113.5\n",
      "\n",
      "\n",
      "################# Numeric Columns Have Outliers  #####################\n",
      "['Insulin']\n",
      "count_columns: 1\n",
      "\n",
      "################# Numeric Columns Have NOT Outliers #####################\n",
      "['Pregnancies', 'Glucose', 'BloodPressure', 'SkinThickness', 'BMI', 'DiabetesPedigreeFunction', 'Age']\n",
      "count_columns: 7\n",
      "\n"
     ]
    }
   ],
   "source": [
    "# listing columns based on outlier information:\n",
    "\n",
    "def show_column_names_with_outliers_info(dataframe,col_list):\n",
    "    print(\"################# Numeric Columns Outlier Thresholds: Low & Up Limit  #####################\")\n",
    "    for col in col_list:\n",
    "        low, up = outlier_thresholds(df,col)\n",
    "        print(f\"{col} : low: {low}, up: {up}\",end =\"\\n\")\n",
    "    print(end=\"\\n\\n\")\n",
    "    no_outliers = []\n",
    "    have_outliers = []\n",
    "    for col in col_list:\n",
    "        if check_outlier(df, col):\n",
    "            have_outliers.append(col)\n",
    "        else:\n",
    "            no_outliers.append(col)\n",
    "    print(\"################# Numeric Columns Have Outliers  #####################\")\n",
    "    print(have_outliers)\n",
    "    print(f\"count_columns: {len(have_outliers)}\", end=\"\\n\\n\")\n",
    "    print(\"################# Numeric Columns Have NOT Outliers #####################\")\n",
    "    print(no_outliers)\n",
    "    print(f\"count_columns: {len(no_outliers)}\", end=\"\\n\\n\")\n",
    "    return have_outliers,no_outliers\n",
    "\n",
    "have_outliers,no_outliers = show_column_names_with_outliers_info(df,num_cols)"
   ]
  },
  {
   "cell_type": "code",
   "execution_count": 29,
   "id": "03e02f88",
   "metadata": {
    "execution": {
     "iopub.execute_input": "2024-06-27T11:00:29.694112Z",
     "iopub.status.busy": "2024-06-27T11:00:29.693555Z",
     "iopub.status.idle": "2024-06-27T11:00:29.701468Z",
     "shell.execute_reply": "2024-06-27T11:00:29.699877Z"
    },
    "papermill": {
     "duration": 0.045173,
     "end_time": "2024-06-27T11:00:29.704148",
     "exception": false,
     "start_time": "2024-06-27T11:00:29.658975",
     "status": "completed"
    },
    "tags": []
   },
   "outputs": [
    {
     "data": {
      "text/plain": [
       "['Insulin']"
      ]
     },
     "execution_count": 29,
     "metadata": {},
     "output_type": "execute_result"
    }
   ],
   "source": [
    "have_outliers"
   ]
  },
  {
   "cell_type": "code",
   "execution_count": 30,
   "id": "c4d53a9e",
   "metadata": {
    "execution": {
     "iopub.execute_input": "2024-06-27T11:00:29.771649Z",
     "iopub.status.busy": "2024-06-27T11:00:29.771177Z",
     "iopub.status.idle": "2024-06-27T11:00:29.780269Z",
     "shell.execute_reply": "2024-06-27T11:00:29.779090Z"
    },
    "papermill": {
     "duration": 0.04592,
     "end_time": "2024-06-27T11:00:29.783011",
     "exception": false,
     "start_time": "2024-06-27T11:00:29.737091",
     "status": "completed"
    },
    "tags": []
   },
   "outputs": [],
   "source": [
    "# to grab outlier values:\n",
    "\n",
    "def grab_outliers(dataframe,col_name, index = False):\n",
    "    low, up = outlier_thresholds(dataframe, col_name)\n",
    "    if dataframe[((dataframe[col_name] > up) | (dataframe[col_name] < low))].shape[0] > 10 :\n",
    "        print(dataframe[(dataframe[col_name] > up) | (dataframe[col_name] < low)])\n",
    "    else:\n",
    "        print(dataframe[((dataframe[col_name] > up) | (dataframe[col_name] < low))])\n",
    "    if index:\n",
    "        outlier_index = dataframe[((dataframe[col_name] > up) | (dataframe[col_name] < low))].index\n",
    "        return outlier_index"
   ]
  },
  {
   "cell_type": "code",
   "execution_count": 31,
   "id": "ea03072c",
   "metadata": {
    "execution": {
     "iopub.execute_input": "2024-06-27T11:00:29.852478Z",
     "iopub.status.busy": "2024-06-27T11:00:29.851812Z",
     "iopub.status.idle": "2024-06-27T11:00:29.868426Z",
     "shell.execute_reply": "2024-06-27T11:00:29.866604Z"
    },
    "papermill": {
     "duration": 0.055204,
     "end_time": "2024-06-27T11:00:29.871361",
     "exception": false,
     "start_time": "2024-06-27T11:00:29.816157",
     "status": "completed"
    },
    "tags": []
   },
   "outputs": [
    {
     "name": "stdout",
     "output_type": "stream",
     "text": [
      "     Pregnancies  Glucose  BloodPressure  SkinThickness  Insulin    BMI  DiabetesPedigreeFunction  Age  Outcome\n",
      "13             1      189             60             23      846 30.100                     0.398   59        1\n",
      "228            4      197             70             39      744 36.700                     2.329   31        0\n"
     ]
    }
   ],
   "source": [
    "for col in have_outliers:\n",
    "    grab_outliers(df,col,index=True)"
   ]
  },
  {
   "cell_type": "markdown",
   "id": "6d0d0336",
   "metadata": {
    "papermill": {
     "duration": 0.032289,
     "end_time": "2024-06-27T11:00:29.937049",
     "exception": false,
     "start_time": "2024-06-27T11:00:29.904760",
     "status": "completed"
    },
    "tags": []
   },
   "source": [
    "### 3.5 Correlation Analysis"
   ]
  },
  {
   "cell_type": "code",
   "execution_count": 32,
   "id": "3d2f3d73",
   "metadata": {
    "execution": {
     "iopub.execute_input": "2024-06-27T11:00:30.003379Z",
     "iopub.status.busy": "2024-06-27T11:00:30.002963Z",
     "iopub.status.idle": "2024-06-27T11:00:30.020054Z",
     "shell.execute_reply": "2024-06-27T11:00:30.018566Z"
    },
    "papermill": {
     "duration": 0.053835,
     "end_time": "2024-06-27T11:00:30.023127",
     "exception": false,
     "start_time": "2024-06-27T11:00:29.969292",
     "status": "completed"
    },
    "tags": []
   },
   "outputs": [
    {
     "data": {
      "text/html": [
       "<div>\n",
       "<style scoped>\n",
       "    .dataframe tbody tr th:only-of-type {\n",
       "        vertical-align: middle;\n",
       "    }\n",
       "\n",
       "    .dataframe tbody tr th {\n",
       "        vertical-align: top;\n",
       "    }\n",
       "\n",
       "    .dataframe thead th {\n",
       "        text-align: right;\n",
       "    }\n",
       "</style>\n",
       "<table border=\"1\" class=\"dataframe\">\n",
       "  <thead>\n",
       "    <tr style=\"text-align: right;\">\n",
       "      <th></th>\n",
       "      <th>Pregnancies</th>\n",
       "      <th>Glucose</th>\n",
       "      <th>BloodPressure</th>\n",
       "      <th>SkinThickness</th>\n",
       "      <th>Insulin</th>\n",
       "      <th>BMI</th>\n",
       "      <th>DiabetesPedigreeFunction</th>\n",
       "      <th>Age</th>\n",
       "    </tr>\n",
       "  </thead>\n",
       "  <tbody>\n",
       "    <tr>\n",
       "      <th>Pregnancies</th>\n",
       "      <td>1.000</td>\n",
       "      <td>0.129</td>\n",
       "      <td>0.141</td>\n",
       "      <td>-0.082</td>\n",
       "      <td>-0.074</td>\n",
       "      <td>0.018</td>\n",
       "      <td>-0.034</td>\n",
       "      <td>0.544</td>\n",
       "    </tr>\n",
       "    <tr>\n",
       "      <th>Glucose</th>\n",
       "      <td>0.129</td>\n",
       "      <td>1.000</td>\n",
       "      <td>0.153</td>\n",
       "      <td>0.057</td>\n",
       "      <td>0.331</td>\n",
       "      <td>0.221</td>\n",
       "      <td>0.137</td>\n",
       "      <td>0.264</td>\n",
       "    </tr>\n",
       "    <tr>\n",
       "      <th>BloodPressure</th>\n",
       "      <td>0.141</td>\n",
       "      <td>0.153</td>\n",
       "      <td>1.000</td>\n",
       "      <td>0.207</td>\n",
       "      <td>0.089</td>\n",
       "      <td>0.282</td>\n",
       "      <td>0.041</td>\n",
       "      <td>0.240</td>\n",
       "    </tr>\n",
       "    <tr>\n",
       "      <th>SkinThickness</th>\n",
       "      <td>-0.082</td>\n",
       "      <td>0.057</td>\n",
       "      <td>0.207</td>\n",
       "      <td>1.000</td>\n",
       "      <td>0.437</td>\n",
       "      <td>0.393</td>\n",
       "      <td>0.184</td>\n",
       "      <td>-0.114</td>\n",
       "    </tr>\n",
       "    <tr>\n",
       "      <th>Insulin</th>\n",
       "      <td>-0.074</td>\n",
       "      <td>0.331</td>\n",
       "      <td>0.089</td>\n",
       "      <td>0.437</td>\n",
       "      <td>1.000</td>\n",
       "      <td>0.198</td>\n",
       "      <td>0.185</td>\n",
       "      <td>-0.042</td>\n",
       "    </tr>\n",
       "    <tr>\n",
       "      <th>BMI</th>\n",
       "      <td>0.018</td>\n",
       "      <td>0.221</td>\n",
       "      <td>0.282</td>\n",
       "      <td>0.393</td>\n",
       "      <td>0.198</td>\n",
       "      <td>1.000</td>\n",
       "      <td>0.141</td>\n",
       "      <td>0.036</td>\n",
       "    </tr>\n",
       "    <tr>\n",
       "      <th>DiabetesPedigreeFunction</th>\n",
       "      <td>-0.034</td>\n",
       "      <td>0.137</td>\n",
       "      <td>0.041</td>\n",
       "      <td>0.184</td>\n",
       "      <td>0.185</td>\n",
       "      <td>0.141</td>\n",
       "      <td>1.000</td>\n",
       "      <td>0.034</td>\n",
       "    </tr>\n",
       "    <tr>\n",
       "      <th>Age</th>\n",
       "      <td>0.544</td>\n",
       "      <td>0.264</td>\n",
       "      <td>0.240</td>\n",
       "      <td>-0.114</td>\n",
       "      <td>-0.042</td>\n",
       "      <td>0.036</td>\n",
       "      <td>0.034</td>\n",
       "      <td>1.000</td>\n",
       "    </tr>\n",
       "  </tbody>\n",
       "</table>\n",
       "</div>"
      ],
      "text/plain": [
       "                          Pregnancies  Glucose  BloodPressure  SkinThickness  Insulin   BMI  DiabetesPedigreeFunction    Age\n",
       "Pregnancies                     1.000    0.129          0.141         -0.082   -0.074 0.018                    -0.034  0.544\n",
       "Glucose                         0.129    1.000          0.153          0.057    0.331 0.221                     0.137  0.264\n",
       "BloodPressure                   0.141    0.153          1.000          0.207    0.089 0.282                     0.041  0.240\n",
       "SkinThickness                  -0.082    0.057          0.207          1.000    0.437 0.393                     0.184 -0.114\n",
       "Insulin                        -0.074    0.331          0.089          0.437    1.000 0.198                     0.185 -0.042\n",
       "BMI                             0.018    0.221          0.282          0.393    0.198 1.000                     0.141  0.036\n",
       "DiabetesPedigreeFunction       -0.034    0.137          0.041          0.184    0.185 0.141                     1.000  0.034\n",
       "Age                             0.544    0.264          0.240         -0.114   -0.042 0.036                     0.034  1.000"
      ]
     },
     "execution_count": 32,
     "metadata": {},
     "output_type": "execute_result"
    }
   ],
   "source": [
    "# calculating correlation :\n",
    "\n",
    "corr = df[num_cols].corr()\n",
    "corr"
   ]
  },
  {
   "cell_type": "code",
   "execution_count": 33,
   "id": "4f28e3f7",
   "metadata": {
    "execution": {
     "iopub.execute_input": "2024-06-27T11:00:30.091748Z",
     "iopub.status.busy": "2024-06-27T11:00:30.091332Z",
     "iopub.status.idle": "2024-06-27T11:00:30.665456Z",
     "shell.execute_reply": "2024-06-27T11:00:30.664169Z"
    },
    "papermill": {
     "duration": 0.611596,
     "end_time": "2024-06-27T11:00:30.668423",
     "exception": false,
     "start_time": "2024-06-27T11:00:30.056827",
     "status": "completed"
    },
    "tags": []
   },
   "outputs": [
    {
     "data": {
      "image/png": "[encoded data removed]",
      "text/plain": [
       "<Figure size 1200x1200 with 2 Axes>"
      ]
     },
     "metadata": {},
     "output_type": "display_data"
    }
   ],
   "source": [
    "# correlation graph:\n",
    "\n",
    "sns.set(rc = {\"figure.figsize\":(12,12)})\n",
    "sns.heatmap(corr,cmap = \"RdBu\")\n",
    "plt.show()"
   ]
  },
  {
   "cell_type": "code",
   "execution_count": 34,
   "id": "84da2661",
   "metadata": {
    "execution": {
     "iopub.execute_input": "2024-06-27T11:00:30.738213Z",
     "iopub.status.busy": "2024-06-27T11:00:30.737742Z",
     "iopub.status.idle": "2024-06-27T11:00:30.747513Z",
     "shell.execute_reply": "2024-06-27T11:00:30.745998Z"
    },
    "papermill": {
     "duration": 0.048513,
     "end_time": "2024-06-27T11:00:30.750690",
     "exception": false,
     "start_time": "2024-06-27T11:00:30.702177",
     "status": "completed"
    },
    "tags": []
   },
   "outputs": [],
   "source": [
    "# high correlation columns \n",
    "# list of items to be dropped:\n",
    "\n",
    "def high_correlated_cols(dataframe,plot= False, corr_th = 0.90):\n",
    "    import numpy as np\n",
    "    corr = dataframe.corr()\n",
    "    corr_matrix = corr.abs()\n",
    "    upper_triangle_matrix = corr_matrix.where(np.triu(np.ones(corr_matrix.shape), k=1).astype(bool))\n",
    "    drop_list = [col for col in upper_triangle_matrix.columns if any (upper_triangle_matrix[col] > corr_th)]\n",
    "    if plot:\n",
    "        import seaborn as sns\n",
    "        import matplotlib.pyplot as plt\n",
    "        sns.set(rc = {\"figure.figsize\":(15,15)})\n",
    "        sns.heatmap(corr_matrix,cmap = \"RdBu\")\n",
    "        plt.show()\n",
    "    return drop_list"
   ]
  },
  {
   "cell_type": "code",
   "execution_count": 35,
   "id": "897aa33a",
   "metadata": {
    "execution": {
     "iopub.execute_input": "2024-06-27T11:00:30.824569Z",
     "iopub.status.busy": "2024-06-27T11:00:30.824158Z",
     "iopub.status.idle": "2024-06-27T11:00:30.836457Z",
     "shell.execute_reply": "2024-06-27T11:00:30.835186Z"
    },
    "papermill": {
     "duration": 0.052744,
     "end_time": "2024-06-27T11:00:30.839408",
     "exception": false,
     "start_time": "2024-06-27T11:00:30.786664",
     "status": "completed"
    },
    "tags": []
   },
   "outputs": [
    {
     "data": {
      "text/plain": [
       "[]"
      ]
     },
     "execution_count": 35,
     "metadata": {},
     "output_type": "execute_result"
    }
   ],
   "source": [
    "# applying the function:\n",
    "\n",
    "high_correlated_cols(df,plot=False)"
   ]
  },
  {
   "cell_type": "markdown",
   "id": "25d94f8d",
   "metadata": {
    "papermill": {
     "duration": 0.03391,
     "end_time": "2024-06-27T11:00:30.909866",
     "exception": false,
     "start_time": "2024-06-27T11:00:30.875956",
     "status": "completed"
    },
    "tags": []
   },
   "source": [
    "## 4. Base Model"
   ]
  },
  {
   "cell_type": "markdown",
   "id": "0666f2af",
   "metadata": {
    "papermill": {
     "duration": 0.035,
     "end_time": "2024-06-27T11:00:30.978964",
     "exception": false,
     "start_time": "2024-06-27T11:00:30.943964",
     "status": "completed"
    },
    "tags": []
   },
   "source": [
    "> **NOTE:**\n",
    "To assess the model after implementing the changes we plan to make, we are checking the validation metrics of the model on the data without applying any operations yet."
   ]
  },
  {
   "cell_type": "code",
   "execution_count": 36,
   "id": "fc76b00c",
   "metadata": {
    "execution": {
     "iopub.execute_input": "2024-06-27T11:00:31.051935Z",
     "iopub.status.busy": "2024-06-27T11:00:31.051509Z",
     "iopub.status.idle": "2024-06-27T11:00:31.361361Z",
     "shell.execute_reply": "2024-06-27T11:00:31.359970Z"
    },
    "papermill": {
     "duration": 0.351357,
     "end_time": "2024-06-27T11:00:31.364286",
     "exception": false,
     "start_time": "2024-06-27T11:00:31.012929",
     "status": "completed"
    },
    "tags": []
   },
   "outputs": [],
   "source": [
    "# creating the base model:\n",
    "\n",
    "y = df[\"Outcome\"] # target\n",
    "X = df.drop(\"Outcome\", axis=1) # train data\n",
    "\n",
    "X_train, X_test, y_train, y_test = train_test_split(X, y, test_size=0.30, random_state=24) # split the data\n",
    "\n",
    "rf_model = RandomForestClassifier(random_state=24).fit(X_train, y_train) # fitting model"
   ]
  },
  {
   "cell_type": "code",
   "execution_count": 37,
   "id": "d10c6cad",
   "metadata": {
    "execution": {
     "iopub.execute_input": "2024-06-27T11:00:31.435961Z",
     "iopub.status.busy": "2024-06-27T11:00:31.435530Z",
     "iopub.status.idle": "2024-06-27T11:00:31.454634Z",
     "shell.execute_reply": "2024-06-27T11:00:31.453279Z"
    },
    "papermill": {
     "duration": 0.05955,
     "end_time": "2024-06-27T11:00:31.457809",
     "exception": false,
     "start_time": "2024-06-27T11:00:31.398259",
     "status": "completed"
    },
    "tags": []
   },
   "outputs": [],
   "source": [
    "# prediction:\n",
    "\n",
    "y_pred = rf_model.predict(X_test)"
   ]
  },
  {
   "cell_type": "code",
   "execution_count": 38,
   "id": "c686e441",
   "metadata": {
    "execution": {
     "iopub.execute_input": "2024-06-27T11:00:31.528385Z",
     "iopub.status.busy": "2024-06-27T11:00:31.527935Z",
     "iopub.status.idle": "2024-06-27T11:00:31.553415Z",
     "shell.execute_reply": "2024-06-27T11:00:31.552008Z"
    },
    "papermill": {
     "duration": 0.064129,
     "end_time": "2024-06-27T11:00:31.556436",
     "exception": false,
     "start_time": "2024-06-27T11:00:31.492307",
     "status": "completed"
    },
    "tags": []
   },
   "outputs": [
    {
     "name": "stdout",
     "output_type": "stream",
     "text": [
      "Accuracy: 0.68\n",
      "Recall: 0.636\n",
      "Precision: 0.4\n",
      "F1: 0.49\n",
      "Auc: 0.67\n"
     ]
    }
   ],
   "source": [
    "# validation metrics:\n",
    "\n",
    "print(f\"Accuracy: {round(accuracy_score(y_pred, y_test), 2)}\")\n",
    "print(f\"Recall: {round(recall_score(y_pred,y_test),3)}\")\n",
    "print(f\"Precision: {round(precision_score(y_pred,y_test), 2)}\")\n",
    "print(f\"F1: {round(f1_score(y_pred,y_test), 2)}\")\n",
    "print(f\"Auc: {round(roc_auc_score(y_pred,y_test), 2)}\")"
   ]
  },
  {
   "cell_type": "markdown",
   "id": "8ed2d2b8",
   "metadata": {
    "papermill": {
     "duration": 0.037408,
     "end_time": "2024-06-27T11:00:31.629430",
     "exception": false,
     "start_time": "2024-06-27T11:00:31.592022",
     "status": "completed"
    },
    "tags": []
   },
   "source": [
    "## 5. Feature Engineering"
   ]
  },
  {
   "cell_type": "markdown",
   "id": "8c171d90",
   "metadata": {
    "papermill": {
     "duration": 0.035363,
     "end_time": "2024-06-27T11:00:31.703498",
     "exception": false,
     "start_time": "2024-06-27T11:00:31.668135",
     "status": "completed"
    },
    "tags": []
   },
   "source": [
    "### 5.1 Missing Values "
   ]
  },
  {
   "cell_type": "code",
   "execution_count": 39,
   "id": "7c9d0293",
   "metadata": {
    "execution": {
     "iopub.execute_input": "2024-06-27T11:00:31.777464Z",
     "iopub.status.busy": "2024-06-27T11:00:31.777045Z",
     "iopub.status.idle": "2024-06-27T11:00:31.788653Z",
     "shell.execute_reply": "2024-06-27T11:00:31.786922Z"
    },
    "papermill": {
     "duration": 0.053906,
     "end_time": "2024-06-27T11:00:31.791892",
     "exception": false,
     "start_time": "2024-06-27T11:00:31.737986",
     "status": "completed"
    },
    "tags": []
   },
   "outputs": [
    {
     "data": {
      "text/plain": [
       "['Glucose', 'BloodPressure', 'SkinThickness', 'Insulin', 'BMI']"
      ]
     },
     "execution_count": 39,
     "metadata": {},
     "output_type": "execute_result"
    }
   ],
   "source": [
    "# checking columns which their minimum values are zero:\n",
    "\n",
    "zero_columns = [col for col in df.columns if (df[col].min() == 0 and col not in [\"Pregnancies\", \"Outcome\"])]\n",
    "\n",
    "zero_columns"
   ]
  },
  {
   "cell_type": "code",
   "execution_count": 40,
   "id": "2fdd40c8",
   "metadata": {
    "execution": {
     "iopub.execute_input": "2024-06-27T11:00:31.865629Z",
     "iopub.status.busy": "2024-06-27T11:00:31.865236Z",
     "iopub.status.idle": "2024-06-27T11:00:31.877643Z",
     "shell.execute_reply": "2024-06-27T11:00:31.875410Z"
    },
    "papermill": {
     "duration": 0.05432,
     "end_time": "2024-06-27T11:00:31.881773",
     "exception": false,
     "start_time": "2024-06-27T11:00:31.827453",
     "status": "completed"
    },
    "tags": []
   },
   "outputs": [],
   "source": [
    "# Replacing observation values containing 0 with NaN for variables where 0 exists across observation units:\n",
    "\n",
    "for col in zero_columns:\n",
    "    df[col].replace(0, np.nan, inplace=True)"
   ]
  },
  {
   "cell_type": "code",
   "execution_count": 41,
   "id": "319a126f",
   "metadata": {
    "execution": {
     "iopub.execute_input": "2024-06-27T11:00:31.973207Z",
     "iopub.status.busy": "2024-06-27T11:00:31.972669Z",
     "iopub.status.idle": "2024-06-27T11:00:31.981310Z",
     "shell.execute_reply": "2024-06-27T11:00:31.980061Z"
    },
    "papermill": {
     "duration": 0.055703,
     "end_time": "2024-06-27T11:00:31.984356",
     "exception": false,
     "start_time": "2024-06-27T11:00:31.928653",
     "status": "completed"
    },
    "tags": []
   },
   "outputs": [
    {
     "data": {
      "text/plain": [
       "11"
      ]
     },
     "execution_count": 41,
     "metadata": {},
     "output_type": "execute_result"
    }
   ],
   "source": [
    "df[col].isnull().sum()"
   ]
  },
  {
   "cell_type": "code",
   "execution_count": 42,
   "id": "60006681",
   "metadata": {
    "execution": {
     "iopub.execute_input": "2024-06-27T11:00:32.057637Z",
     "iopub.status.busy": "2024-06-27T11:00:32.057249Z",
     "iopub.status.idle": "2024-06-27T11:00:32.069334Z",
     "shell.execute_reply": "2024-06-27T11:00:32.068006Z"
    },
    "papermill": {
     "duration": 0.051898,
     "end_time": "2024-06-27T11:00:32.072201",
     "exception": false,
     "start_time": "2024-06-27T11:00:32.020303",
     "status": "completed"
    },
    "tags": []
   },
   "outputs": [],
   "source": [
    "# fill the null values:\n",
    "\n",
    "for col in zero_columns:\n",
    "    df[col].fillna(df[col].median(), inplace = True)"
   ]
  },
  {
   "cell_type": "code",
   "execution_count": 43,
   "id": "6b072cd6",
   "metadata": {
    "execution": {
     "iopub.execute_input": "2024-06-27T11:00:32.148109Z",
     "iopub.status.busy": "2024-06-27T11:00:32.147681Z",
     "iopub.status.idle": "2024-06-27T11:00:32.156154Z",
     "shell.execute_reply": "2024-06-27T11:00:32.154674Z"
    },
    "papermill": {
     "duration": 0.04938,
     "end_time": "2024-06-27T11:00:32.158901",
     "exception": false,
     "start_time": "2024-06-27T11:00:32.109521",
     "status": "completed"
    },
    "tags": []
   },
   "outputs": [
    {
     "data": {
      "text/plain": [
       "0"
      ]
     },
     "execution_count": 43,
     "metadata": {},
     "output_type": "execute_result"
    }
   ],
   "source": [
    "df[col].isnull().sum()"
   ]
  },
  {
   "cell_type": "markdown",
   "id": "caacbf0d",
   "metadata": {
    "papermill": {
     "duration": 0.034025,
     "end_time": "2024-06-27T11:00:32.229120",
     "exception": false,
     "start_time": "2024-06-27T11:00:32.195095",
     "status": "completed"
    },
    "tags": []
   },
   "source": [
    "### 5.2 Outlier Suppression"
   ]
  },
  {
   "cell_type": "code",
   "execution_count": 44,
   "id": "3a0341a6",
   "metadata": {
    "execution": {
     "iopub.execute_input": "2024-06-27T11:00:32.300586Z",
     "iopub.status.busy": "2024-06-27T11:00:32.300133Z",
     "iopub.status.idle": "2024-06-27T11:00:32.306962Z",
     "shell.execute_reply": "2024-06-27T11:00:32.305592Z"
    },
    "papermill": {
     "duration": 0.045852,
     "end_time": "2024-06-27T11:00:32.309728",
     "exception": false,
     "start_time": "2024-06-27T11:00:32.263876",
     "status": "completed"
    },
    "tags": []
   },
   "outputs": [],
   "source": [
    "# outlier suppression:\n",
    "\n",
    "def replace_with_thresholds(dataframe,variable):\n",
    "    low, up = outlier_thresholds(dataframe, variable)\n",
    "    dataframe.loc[(dataframe[variable] < low),variable] = low\n",
    "    dataframe.loc[(dataframe[variable] > up),variable] = up"
   ]
  },
  {
   "cell_type": "code",
   "execution_count": 45,
   "id": "fddc13aa",
   "metadata": {
    "execution": {
     "iopub.execute_input": "2024-06-27T11:00:32.383040Z",
     "iopub.status.busy": "2024-06-27T11:00:32.382600Z",
     "iopub.status.idle": "2024-06-27T11:00:32.392694Z",
     "shell.execute_reply": "2024-06-27T11:00:32.391293Z"
    },
    "papermill": {
     "duration": 0.050358,
     "end_time": "2024-06-27T11:00:32.395667",
     "exception": false,
     "start_time": "2024-06-27T11:00:32.345309",
     "status": "completed"
    },
    "tags": []
   },
   "outputs": [],
   "source": [
    "#applying the function:\n",
    "\n",
    "for col in have_outliers:\n",
    "    replace_with_thresholds(df,col)"
   ]
  },
  {
   "cell_type": "code",
   "execution_count": 46,
   "id": "2eb67f38",
   "metadata": {
    "execution": {
     "iopub.execute_input": "2024-06-27T11:00:32.468081Z",
     "iopub.status.busy": "2024-06-27T11:00:32.467633Z",
     "iopub.status.idle": "2024-06-27T11:00:32.504204Z",
     "shell.execute_reply": "2024-06-27T11:00:32.502932Z"
    },
    "papermill": {
     "duration": 0.076078,
     "end_time": "2024-06-27T11:00:32.507171",
     "exception": false,
     "start_time": "2024-06-27T11:00:32.431093",
     "status": "completed"
    },
    "tags": []
   },
   "outputs": [
    {
     "data": {
      "text/html": [
       "<div>\n",
       "<style scoped>\n",
       "    .dataframe tbody tr th:only-of-type {\n",
       "        vertical-align: middle;\n",
       "    }\n",
       "\n",
       "    .dataframe tbody tr th {\n",
       "        vertical-align: top;\n",
       "    }\n",
       "\n",
       "    .dataframe thead th {\n",
       "        text-align: right;\n",
       "    }\n",
       "</style>\n",
       "<table border=\"1\" class=\"dataframe\">\n",
       "  <thead>\n",
       "    <tr style=\"text-align: right;\">\n",
       "      <th></th>\n",
       "      <th>count</th>\n",
       "      <th>mean</th>\n",
       "      <th>std</th>\n",
       "      <th>min</th>\n",
       "      <th>25%</th>\n",
       "      <th>50%</th>\n",
       "      <th>75%</th>\n",
       "      <th>max</th>\n",
       "    </tr>\n",
       "  </thead>\n",
       "  <tbody>\n",
       "    <tr>\n",
       "      <th>Pregnancies</th>\n",
       "      <td>768.000</td>\n",
       "      <td>3.845</td>\n",
       "      <td>3.370</td>\n",
       "      <td>0.000</td>\n",
       "      <td>1.000</td>\n",
       "      <td>3.000</td>\n",
       "      <td>6.000</td>\n",
       "      <td>17.000</td>\n",
       "    </tr>\n",
       "    <tr>\n",
       "      <th>Glucose</th>\n",
       "      <td>768.000</td>\n",
       "      <td>121.656</td>\n",
       "      <td>30.438</td>\n",
       "      <td>44.000</td>\n",
       "      <td>99.750</td>\n",
       "      <td>117.000</td>\n",
       "      <td>140.250</td>\n",
       "      <td>199.000</td>\n",
       "    </tr>\n",
       "    <tr>\n",
       "      <th>BloodPressure</th>\n",
       "      <td>768.000</td>\n",
       "      <td>72.387</td>\n",
       "      <td>12.097</td>\n",
       "      <td>24.000</td>\n",
       "      <td>64.000</td>\n",
       "      <td>72.000</td>\n",
       "      <td>80.000</td>\n",
       "      <td>122.000</td>\n",
       "    </tr>\n",
       "    <tr>\n",
       "      <th>SkinThickness</th>\n",
       "      <td>768.000</td>\n",
       "      <td>29.108</td>\n",
       "      <td>8.791</td>\n",
       "      <td>7.000</td>\n",
       "      <td>25.000</td>\n",
       "      <td>29.000</td>\n",
       "      <td>32.000</td>\n",
       "      <td>99.000</td>\n",
       "    </tr>\n",
       "    <tr>\n",
       "      <th>Insulin</th>\n",
       "      <td>768.000</td>\n",
       "      <td>140.285</td>\n",
       "      <td>83.691</td>\n",
       "      <td>14.000</td>\n",
       "      <td>121.500</td>\n",
       "      <td>125.000</td>\n",
       "      <td>127.250</td>\n",
       "      <td>657.500</td>\n",
       "    </tr>\n",
       "    <tr>\n",
       "      <th>BMI</th>\n",
       "      <td>768.000</td>\n",
       "      <td>32.455</td>\n",
       "      <td>6.875</td>\n",
       "      <td>18.200</td>\n",
       "      <td>27.500</td>\n",
       "      <td>32.300</td>\n",
       "      <td>36.600</td>\n",
       "      <td>67.100</td>\n",
       "    </tr>\n",
       "    <tr>\n",
       "      <th>DiabetesPedigreeFunction</th>\n",
       "      <td>768.000</td>\n",
       "      <td>0.472</td>\n",
       "      <td>0.331</td>\n",
       "      <td>0.078</td>\n",
       "      <td>0.244</td>\n",
       "      <td>0.372</td>\n",
       "      <td>0.626</td>\n",
       "      <td>2.420</td>\n",
       "    </tr>\n",
       "    <tr>\n",
       "      <th>Age</th>\n",
       "      <td>768.000</td>\n",
       "      <td>33.241</td>\n",
       "      <td>11.760</td>\n",
       "      <td>21.000</td>\n",
       "      <td>24.000</td>\n",
       "      <td>29.000</td>\n",
       "      <td>41.000</td>\n",
       "      <td>81.000</td>\n",
       "    </tr>\n",
       "    <tr>\n",
       "      <th>Outcome</th>\n",
       "      <td>768.000</td>\n",
       "      <td>0.349</td>\n",
       "      <td>0.477</td>\n",
       "      <td>0.000</td>\n",
       "      <td>0.000</td>\n",
       "      <td>0.000</td>\n",
       "      <td>1.000</td>\n",
       "      <td>1.000</td>\n",
       "    </tr>\n",
       "  </tbody>\n",
       "</table>\n",
       "</div>"
      ],
      "text/plain": [
       "                           count    mean    std    min     25%     50%     75%     max\n",
       "Pregnancies              768.000   3.845  3.370  0.000   1.000   3.000   6.000  17.000\n",
       "Glucose                  768.000 121.656 30.438 44.000  99.750 117.000 140.250 199.000\n",
       "BloodPressure            768.000  72.387 12.097 24.000  64.000  72.000  80.000 122.000\n",
       "SkinThickness            768.000  29.108  8.791  7.000  25.000  29.000  32.000  99.000\n",
       "Insulin                  768.000 140.285 83.691 14.000 121.500 125.000 127.250 657.500\n",
       "BMI                      768.000  32.455  6.875 18.200  27.500  32.300  36.600  67.100\n",
       "DiabetesPedigreeFunction 768.000   0.472  0.331  0.078   0.244   0.372   0.626   2.420\n",
       "Age                      768.000  33.241 11.760 21.000  24.000  29.000  41.000  81.000\n",
       "Outcome                  768.000   0.349  0.477  0.000   0.000   0.000   1.000   1.000"
      ]
     },
     "execution_count": 46,
     "metadata": {},
     "output_type": "execute_result"
    }
   ],
   "source": [
    "df.describe().T # descriptive statistics again"
   ]
  },
  {
   "cell_type": "markdown",
   "id": "7dfcc25c",
   "metadata": {
    "papermill": {
     "duration": 0.034593,
     "end_time": "2024-06-27T11:00:32.577145",
     "exception": false,
     "start_time": "2024-06-27T11:00:32.542552",
     "status": "completed"
    },
    "tags": []
   },
   "source": [
    "### 5.3 Feature Extraction"
   ]
  },
  {
   "cell_type": "code",
   "execution_count": 47,
   "id": "69300412",
   "metadata": {
    "execution": {
     "iopub.execute_input": "2024-06-27T11:00:32.661771Z",
     "iopub.status.busy": "2024-06-27T11:00:32.661273Z",
     "iopub.status.idle": "2024-06-27T11:00:32.710995Z",
     "shell.execute_reply": "2024-06-27T11:00:32.709759Z"
    },
    "papermill": {
     "duration": 0.094516,
     "end_time": "2024-06-27T11:00:32.713954",
     "exception": false,
     "start_time": "2024-06-27T11:00:32.619438",
     "status": "completed"
    },
    "tags": []
   },
   "outputs": [],
   "source": [
    "# Age- Pregnancy\n",
    "\n",
    "# Age ve Pregnancies quantiles:\n",
    "age_q25 = df[\"Age\"].quantile(0.25)\n",
    "age_q75 = df[\"Age\"].quantile(0.75)\n",
    "preg_q25 = df[\"Pregnancies\"].quantile(0.25)\n",
    "preg_q75 = df[\"Pregnancies\"].quantile(0.75)\n",
    "\n",
    "# Mature:\n",
    "df.loc[(df[\"Age\"] > age_q75) & (df[\"Pregnancies\"] > preg_q75), \"New_Age_Pregnancies\"] = \"mature and high preg\"\n",
    "df.loc[(df[\"Age\"] > age_q75) & (df[\"Pregnancies\"] > preg_q25) & (df[\"Pregnancies\"] <= preg_q75), \"New_Age_Pregnancies\"] = \"mature and mid preg\"\n",
    "df.loc[(df[\"Age\"] > age_q75) & (df[\"Pregnancies\"] <= preg_q25) & (df[\"Pregnancies\"] > 0), \"New_Age_Pregnancies\"] = \"mature and low preg\"\n",
    "df.loc[(df[\"Age\"] > age_q75) & (df[\"Pregnancies\"] == 0), \"New_Age_Pregnancies\"] = \"mature and no preg\"\n",
    "df.loc[(df[\"Age\"] > age_q75) & ((df[\"Age\"] < 0)|(df[\"Pregnancies\"] < 0)), \"New_Age_Pregnancies\"] = \"impossible\"\n",
    "\n",
    "# Senior:\n",
    "df.loc[(df[\"Age\"] > age_q25) & (df[\"Age\"] <= age_q75) & (df[\"Pregnancies\"] > preg_q75), \"New_Age_Pregnancies\"] = \"senior and high preg\"\n",
    "df.loc[(df[\"Age\"] > age_q25) & (df[\"Age\"] <= age_q75) & (df[\"Pregnancies\"] > preg_q25) & (df[\"Pregnancies\"] <= preg_q75), \"New_Age_Pregnancies\"] = \"senior and mid preg\"\n",
    "df.loc[(df[\"Age\"] > age_q25) & (df[\"Age\"] <= age_q75) & (df[\"Pregnancies\"] <= preg_q25) & (df[\"Pregnancies\"] > 0), \"New_Age_Pregnancies\"] = \"senior and low preg\"\n",
    "df.loc[(df[\"Age\"] > age_q25) & (df[\"Age\"] <= age_q75) & (df[\"Pregnancies\"] == 0), \"New_Age_Pregnancies\"] = \"senior and no preg\"\n",
    "df.loc[(df[\"Age\"] > age_q25) & (df[\"Age\"] <= age_q75) & ((df[\"Age\"] < 0)|(df[\"Pregnancies\"] < 0)), \"New_Age_Pregnancies\"] = \"impossible\"\n",
    "\n",
    "# Young:\n",
    "df.loc[(df[\"Age\"] <= age_q25) & (df[\"Age\"] > 18) & (df[\"Pregnancies\"] > preg_q75), \"New_Age_Pregnancies\"] = \"young and high preg\"\n",
    "df.loc[(df[\"Age\"] <= age_q25) & (df[\"Age\"] > 18) & (df[\"Pregnancies\"] > preg_q25) & (df[\"Pregnancies\"] <= preg_q75), \"New_Age_Pregnancies\"] = \"young and mid preg\"\n",
    "df.loc[(df[\"Age\"] <= age_q25) & (df[\"Age\"] > 18) & (df[\"Pregnancies\"] <= preg_q25) & (df[\"Pregnancies\"] > 0), \"New_Age_Pregnancies\"] = \"young and low preg\"\n",
    "df.loc[(df[\"Age\"] <= age_q25) & (df[\"Age\"] > 18) & (df[\"Pregnancies\"] == 0), \"New_Age_Pregnancies\"] = \"young and no preg\"\n",
    "df.loc[(df[\"Age\"] <= age_q25) & (df[\"Age\"] > 18) & ((df[\"Age\"] < 0)|(df[\"Pregnancies\"] < 0)), \"New_Age_Pregnancies\"] = \"impossible\"\n"
   ]
  },
  {
   "cell_type": "code",
   "execution_count": 48,
   "id": "93f3ad30",
   "metadata": {
    "execution": {
     "iopub.execute_input": "2024-06-27T11:00:32.787512Z",
     "iopub.status.busy": "2024-06-27T11:00:32.787061Z",
     "iopub.status.idle": "2024-06-27T11:00:32.797669Z",
     "shell.execute_reply": "2024-06-27T11:00:32.796494Z"
    },
    "papermill": {
     "duration": 0.050757,
     "end_time": "2024-06-27T11:00:32.800496",
     "exception": false,
     "start_time": "2024-06-27T11:00:32.749739",
     "status": "completed"
    },
    "tags": []
   },
   "outputs": [
    {
     "data": {
      "text/plain": [
       "New_Age_Pregnancies\n",
       "senior and mid preg     206\n",
       "mature and high preg     93\n",
       "young and mid preg       90\n",
       "senior and high preg     74\n",
       "young and low preg       72\n",
       "mature and mid preg      57\n",
       "young and no preg        55\n",
       "senior and low preg      51\n",
       "senior and no preg       46\n",
       "mature and low preg      12\n",
       "mature and no preg       10\n",
       "young and high preg       2\n",
       "Name: count, dtype: int64"
      ]
     },
     "execution_count": 48,
     "metadata": {},
     "output_type": "execute_result"
    }
   ],
   "source": [
    "df[\"New_Age_Pregnancies\"].value_counts()"
   ]
  },
  {
   "cell_type": "code",
   "execution_count": 49,
   "id": "4ea972af",
   "metadata": {
    "execution": {
     "iopub.execute_input": "2024-06-27T11:00:32.876738Z",
     "iopub.status.busy": "2024-06-27T11:00:32.876309Z",
     "iopub.status.idle": "2024-06-27T11:00:32.912872Z",
     "shell.execute_reply": "2024-06-27T11:00:32.911539Z"
    },
    "papermill": {
     "duration": 0.079353,
     "end_time": "2024-06-27T11:00:32.915997",
     "exception": false,
     "start_time": "2024-06-27T11:00:32.836644",
     "status": "completed"
    },
    "tags": []
   },
   "outputs": [],
   "source": [
    "# Insulin & Glucose\n",
    "\n",
    "# Insulin ve Glucose quantiles:\n",
    "insulin_q25 = df[\"Insulin\"].quantile(0.25)\n",
    "insulin_q75 = df[\"Insulin\"].quantile(0.75)\n",
    "glucose_q25 = df[\"Glucose\"].quantile(0.25)\n",
    "glucose_q75 = df[\"Glucose\"].quantile(0.75)\n",
    "\n",
    "# High Insulin\n",
    "df.loc[(df[\"Insulin\"] > insulin_q75) & (df[\"Glucose\"] > glucose_q75), \"New_Insulin_Glucose\"] = \"high insulin and high glucose\"\n",
    "df.loc[(df[\"Insulin\"] > insulin_q75) & (df[\"Glucose\"] > glucose_q25) & (df[\"Glucose\"] <= glucose_q75), \"New_Insulin_Glucose\"] = \"high insulin and mid glucose\"\n",
    "df.loc[(df[\"Insulin\"] > insulin_q75) & (df[\"Glucose\"] <= glucose_q25) & (df[\"Glucose\"] > 0), \"New_Insulin_Glucose\"] = \"high insulin and low glucose\"\n",
    "df.loc[(df[\"Insulin\"] > insulin_q75) & ((df[\"Insulin\"] <= 0) | (df[\"Glucose\"] <= 0)), \"New_Insulin_Glucose\"] = \"impossible\"\n",
    "\n",
    "# Mid Insulin\n",
    "df.loc[(df[\"Insulin\"] > insulin_q25) & (df[\"Insulin\"] <= insulin_q75) & (df[\"Glucose\"] > glucose_q75), \"New_Insulin_Glucose\"] = \"mid insulin and high glucose\"\n",
    "df.loc[(df[\"Insulin\"] > insulin_q25) & (df[\"Insulin\"] <= insulin_q75) & (df[\"Glucose\"] > glucose_q25) & (df[\"Glucose\"] <= glucose_q75), \"New_Insulin_Glucose\"] = \"mid insulin and mid glucose\"\n",
    "df.loc[(df[\"Insulin\"] > insulin_q25) & (df[\"Insulin\"] <= insulin_q75) & (df[\"Glucose\"] <= glucose_q25) & (df[\"Glucose\"] > 0), \"New_Insulin_Glucose\"] = \"mid insulin and low glucose\"\n",
    "df.loc[(df[\"Insulin\"] > insulin_q25) & (df[\"Insulin\"] <= insulin_q75) & ((df[\"Insulin\"] <= 0) | (df[\"Glucose\"] <= 0)), \"New_Insulin_Glucose\"] = \"impossible\"\n",
    "\n",
    "# Low Insulin\n",
    "df.loc[(df[\"Insulin\"] <= insulin_q25) & (df[\"Glucose\"] > glucose_q75), \"New_Insulin_Glucose\"] = \"low insulin and high glucose\"\n",
    "df.loc[(df[\"Insulin\"] <= insulin_q25)  & (df[\"Glucose\"] > glucose_q25) & (df[\"Glucose\"] <= glucose_q75), \"New_Insulin_Glucose\"] = \"low insulin and mid glucose\"\n",
    "df.loc[(df[\"Insulin\"] <= insulin_q25)  & (df[\"Glucose\"] <= glucose_q25) & (df[\"Glucose\"] > 0), \"New_Insulin_Glucose\"] = \"low insulin and low glucose\"\n",
    "df.loc[(df[\"Insulin\"] <= insulin_q25)  & ((df[\"Insulin\"] <= 0) | (df[\"Glucose\"] <= 0)), \"New_Insulin_Glucose\"] = \"impossible\""
   ]
  },
  {
   "cell_type": "code",
   "execution_count": 50,
   "id": "cea6c3c0",
   "metadata": {
    "execution": {
     "iopub.execute_input": "2024-06-27T11:00:32.990412Z",
     "iopub.status.busy": "2024-06-27T11:00:32.990018Z",
     "iopub.status.idle": "2024-06-27T11:00:33.000044Z",
     "shell.execute_reply": "2024-06-27T11:00:32.998943Z"
    },
    "papermill": {
     "duration": 0.050426,
     "end_time": "2024-06-27T11:00:33.002519",
     "exception": false,
     "start_time": "2024-06-27T11:00:32.952093",
     "status": "completed"
    },
    "tags": []
   },
   "outputs": [
    {
     "data": {
      "text/plain": [
       "New_Insulin_Glucose\n",
       "mid insulin and mid glucose      201\n",
       "high insulin and mid glucose     100\n",
       "low insulin and low glucose       93\n",
       "mid insulin and low glucose       92\n",
       "mid insulin and high glucose      91\n",
       "high insulin and high glucose     85\n",
       "low insulin and mid glucose       83\n",
       "low insulin and high glucose      16\n",
       "high insulin and low glucose       7\n",
       "Name: count, dtype: int64"
      ]
     },
     "execution_count": 50,
     "metadata": {},
     "output_type": "execute_result"
    }
   ],
   "source": [
    "df[\"New_Insulin_Glucose\"].value_counts()"
   ]
  },
  {
   "cell_type": "code",
   "execution_count": 51,
   "id": "f036b524",
   "metadata": {
    "execution": {
     "iopub.execute_input": "2024-06-27T11:00:33.077742Z",
     "iopub.status.busy": "2024-06-27T11:00:33.077310Z",
     "iopub.status.idle": "2024-06-27T11:00:33.115604Z",
     "shell.execute_reply": "2024-06-27T11:00:33.113995Z"
    },
    "papermill": {
     "duration": 0.081467,
     "end_time": "2024-06-27T11:00:33.118985",
     "exception": false,
     "start_time": "2024-06-27T11:00:33.037518",
     "status": "completed"
    },
    "tags": []
   },
   "outputs": [],
   "source": [
    "# BloodPressure & BMI\n",
    "\n",
    "# BloodPressure ve BMI quantiles:\n",
    "blood_q25 = df[\"BloodPressure\"].quantile(0.25)\n",
    "blood_q75 = df[\"BloodPressure\"].quantile(0.75)\n",
    "bmi_q25 = df[\"BMI\"].quantile(0.25)\n",
    "bmi_q75 = df[\"BMI\"].quantile(0.75)\n",
    "\n",
    "# High BloodPressure\n",
    "df.loc[(df[\"BloodPressure\"] > blood_q75) & (df[\"BMI\"] > bmi_q75), \"New_BloodPressure_BMI\"] = \"high BloodPressure and high bmi\"\n",
    "df.loc[(df[\"BloodPressure\"] > blood_q75) & (df[\"BMI\"] > bmi_q25) & (df[\"BMI\"] <= bmi_q75), \"New_BloodPressure_BMI\"] = \"high BloodPressure and mid bmi\"\n",
    "df.loc[(df[\"BloodPressure\"] > blood_q75) & (df[\"BMI\"] <= bmi_q25) & (df[\"BMI\"] > 0), \"New_BloodPressure_BMI\"] = \"high BloodPressure and low bmi\"\n",
    "df.loc[(df[\"BloodPressure\"] > blood_q75) & (df[\"BMI\"] <= 0), \"New_BloodPressure_BMI\"] = \"impossible\"\n",
    "\n",
    "# Mid BloodPressure\n",
    "df.loc[(df[\"BloodPressure\"] > blood_q25) & (df[\"BloodPressure\"] <= blood_q75) & (df[\"BMI\"] > bmi_q75), \"New_BloodPressure_BMI\"] = \"mid BloodPressure and high bmi\"\n",
    "df.loc[(df[\"BloodPressure\"] > blood_q25) & (df[\"BloodPressure\"] <= blood_q75) & (df[\"BMI\"] > bmi_q25) & (df[\"BMI\"] <= bmi_q75), \"New_BloodPressure_BMI\"] = \"mid BloodPressure and mid bmi\"\n",
    "df.loc[(df[\"BloodPressure\"] > blood_q25) & (df[\"BloodPressure\"] <= blood_q75) & (df[\"BMI\"] <= bmi_q25) & (df[\"BMI\"] > 0), \"New_BloodPressure_BMI\"] = \"mid BloodPressure and low bmi\"\n",
    "df.loc[(df[\"BloodPressure\"] > blood_q25) & (df[\"BloodPressure\"] <= blood_q75) & (df[\"BMI\"] <= 0), \"New_BloodPressure_BMI\"] = \"impossible\"\n",
    "\n",
    "# Low BloodPressure\n",
    "df.loc[(df[\"BloodPressure\"] <= blood_q25)  & (df[\"BMI\"] > bmi_q75), \"New_BloodPressure_BMI\"] = \"low BloodPressure and high bmi\"\n",
    "df.loc[(df[\"BloodPressure\"] <= blood_q25)  & (df[\"BMI\"] > bmi_q25) & (df[\"BMI\"] <= bmi_q75), \"New_BloodPressure_BMI\"] = \"low BloodPressure and mid bmi\"\n",
    "df.loc[(df[\"BloodPressure\"] <= blood_q25) & (df[\"BMI\"] <= bmi_q25) & (df[\"BMI\"] > 0), \"New_BloodPressure_BMI\"] = \"low BloodPressure and low bmi\"\n",
    "df.loc[(df[\"BloodPressure\"] <= blood_q25) & (df[\"BMI\"] <= 0), \"New_BloodPressure_BMI\"] = \"impossible\"\n"
   ]
  },
  {
   "cell_type": "code",
   "execution_count": 52,
   "id": "56902fb9",
   "metadata": {
    "execution": {
     "iopub.execute_input": "2024-06-27T11:00:33.194706Z",
     "iopub.status.busy": "2024-06-27T11:00:33.194273Z",
     "iopub.status.idle": "2024-06-27T11:00:33.205347Z",
     "shell.execute_reply": "2024-06-27T11:00:33.203921Z"
    },
    "papermill": {
     "duration": 0.050635,
     "end_time": "2024-06-27T11:00:33.208232",
     "exception": false,
     "start_time": "2024-06-27T11:00:33.157597",
     "status": "completed"
    },
    "tags": []
   },
   "outputs": [
    {
     "data": {
      "text/plain": [
       "New_BloodPressure_BMI\n",
       "mid BloodPressure and mid bmi      203\n",
       "low BloodPressure and mid bmi      104\n",
       "mid BloodPressure and high bmi     102\n",
       "mid BloodPressure and low bmi       97\n",
       "high BloodPressure and mid bmi      80\n",
       "low BloodPressure and low bmi       77\n",
       "high BloodPressure and high bmi     66\n",
       "low BloodPressure and high bmi      20\n",
       "high BloodPressure and low bmi      19\n",
       "Name: count, dtype: int64"
      ]
     },
     "execution_count": 52,
     "metadata": {},
     "output_type": "execute_result"
    }
   ],
   "source": [
    "df[\"New_BloodPressure_BMI\"].value_counts()"
   ]
  },
  {
   "cell_type": "code",
   "execution_count": 53,
   "id": "36e6a2ee",
   "metadata": {
    "execution": {
     "iopub.execute_input": "2024-06-27T11:00:33.285092Z",
     "iopub.status.busy": "2024-06-27T11:00:33.284620Z",
     "iopub.status.idle": "2024-06-27T11:00:33.322369Z",
     "shell.execute_reply": "2024-06-27T11:00:33.320995Z"
    },
    "papermill": {
     "duration": 0.081471,
     "end_time": "2024-06-27T11:00:33.325591",
     "exception": false,
     "start_time": "2024-06-27T11:00:33.244120",
     "status": "completed"
    },
    "tags": []
   },
   "outputs": [],
   "source": [
    "# SkinThickness & Insulin\n",
    "\n",
    "# SkinThickness ve Insulin quantiles:\n",
    "skin_q25 = df[\"SkinThickness\"].quantile(0.25)\n",
    "skin_q75 = df[\"SkinThickness\"].quantile(0.75)\n",
    "insulin_q25 = df[\"Insulin\"].quantile(0.25)\n",
    "insulin_q75 = df[\"Insulin\"].quantile(0.75)\n",
    "\n",
    "# High SkinThickness\n",
    "df.loc[(df[\"SkinThickness\"] > skin_q75) & (df[\"Insulin\"] > insulin_q75), \"New_SkinThickness_Insulin\"] = \"high SkinThickness and high insulin\"\n",
    "df.loc[(df[\"SkinThickness\"] > skin_q75) & (df[\"Insulin\"] > insulin_q25) & (df[\"Insulin\"] <= insulin_q75), \"New_SkinThickness_Insulin\"] = \"high SkinThickness and mid insulin\"\n",
    "df.loc[(df[\"SkinThickness\"] > skin_q75) & (df[\"Insulin\"] <= insulin_q25) & (df[\"Insulin\"] > 0), \"New_SkinThickness_Insulin\"] = \"high SkinThickness and low insulin\"\n",
    "df.loc[(df[\"SkinThickness\"] > skin_q75) & ((df[\"SkinThickness\"] <= 0) | (df[\"Insulin\"] <= 0)), \"New_SkinThickness_Insulin\"] = \"impossible\"\n",
    "\n",
    "# Mid SkinThickness\n",
    "df.loc[(df[\"SkinThickness\"] > skin_q25) & (df[\"SkinThickness\"] <= skin_q75) & (df[\"Insulin\"] > insulin_q75), \"New_SkinThickness_Insulin\"] = \"mid SkinThickness and high insulin\"\n",
    "df.loc[(df[\"SkinThickness\"] > skin_q25) & (df[\"SkinThickness\"] <= skin_q75) & (df[\"Insulin\"] > insulin_q25) & (df[\"Insulin\"] <= insulin_q75), \"New_SkinThickness_Insulin\"] = \"mid SkinThickness and mid insulin\"\n",
    "df.loc[(df[\"SkinThickness\"] > skin_q25) & (df[\"SkinThickness\"] <= skin_q75) & (df[\"Insulin\"] <= insulin_q25) & (df[\"Insulin\"] > 0), \"New_SkinThickness_Insulin\"] = \"mid SkinThickness and low insulin\"\n",
    "df.loc[(df[\"SkinThickness\"] > skin_q25) & (df[\"SkinThickness\"] <= skin_q75) & ((df[\"SkinThickness\"] <= 0) | (df[\"Insulin\"] <= 0)), \"New_SkinThickness_Insulin\"] = \"impossible\"\n",
    "\n",
    "# Low SkinThickness\n",
    "df.loc[(df[\"SkinThickness\"] <= skin_q25)  & (df[\"Insulin\"] > insulin_q75), \"New_SkinThickness_Insulin\"] = \"low SkinThickness and high insulin\"\n",
    "df.loc[(df[\"SkinThickness\"] <= skin_q25)  & (df[\"Insulin\"] > insulin_q25) & (df[\"Insulin\"] <= insulin_q75), \"New_SkinThickness_Insulin\"] = \"low SkinThickness and mid insulin\"\n",
    "df.loc[(df[\"SkinThickness\"] <= skin_q25) & (df[\"Insulin\"] <= insulin_q25) & (df[\"Insulin\"] > 0), \"New_SkinThickness_Insulin\"] = \"low SkinThickness and low insulin\"\n",
    "df.loc[(df[\"SkinThickness\"] <= skin_q25) &  ((df[\"SkinThickness\"] <= 0) | (df[\"Insulin\"] <= 0)), \"New_SkinThickness_Insulin\"] = \"impossible\"\n"
   ]
  },
  {
   "cell_type": "code",
   "execution_count": 54,
   "id": "18e3ea7d",
   "metadata": {
    "execution": {
     "iopub.execute_input": "2024-06-27T11:00:33.398852Z",
     "iopub.status.busy": "2024-06-27T11:00:33.398412Z",
     "iopub.status.idle": "2024-06-27T11:00:33.408981Z",
     "shell.execute_reply": "2024-06-27T11:00:33.407732Z"
    },
    "papermill": {
     "duration": 0.050514,
     "end_time": "2024-06-27T11:00:33.412159",
     "exception": false,
     "start_time": "2024-06-27T11:00:33.361645",
     "status": "completed"
    },
    "tags": []
   },
   "outputs": [
    {
     "data": {
      "text/plain": [
       "New_SkinThickness_Insulin\n",
       "mid SkinThickness and mid insulin      286\n",
       "low SkinThickness and low insulin       95\n",
       "high SkinThickness and high insulin     92\n",
       "low SkinThickness and mid insulin       53\n",
       "low SkinThickness and high insulin      52\n",
       "high SkinThickness and low insulin      51\n",
       "mid SkinThickness and high insulin      48\n",
       "mid SkinThickness and low insulin       46\n",
       "high SkinThickness and mid insulin      45\n",
       "Name: count, dtype: int64"
      ]
     },
     "execution_count": 54,
     "metadata": {},
     "output_type": "execute_result"
    }
   ],
   "source": [
    "df[\"New_SkinThickness_Insulin\"].value_counts()"
   ]
  },
  {
   "cell_type": "code",
   "execution_count": 55,
   "id": "08af7336",
   "metadata": {
    "execution": {
     "iopub.execute_input": "2024-06-27T11:00:33.486136Z",
     "iopub.status.busy": "2024-06-27T11:00:33.485705Z",
     "iopub.status.idle": "2024-06-27T11:00:33.497414Z",
     "shell.execute_reply": "2024-06-27T11:00:33.496006Z"
    },
    "papermill": {
     "duration": 0.051559,
     "end_time": "2024-06-27T11:00:33.500338",
     "exception": false,
     "start_time": "2024-06-27T11:00:33.448779",
     "status": "completed"
    },
    "tags": []
   },
   "outputs": [],
   "source": [
    "# BMI < 18,5 underweight, 18.5 < bmi < 24.9 normal, 24.9 < bmi < 29.9 Overweight and bmi > 30 Obese\n",
    "\n",
    "df['New_BMI'] = pd.cut(x=df['BMI'], bins=[0, 18.5, 24.9, 29.9, 100],labels=[\"Underweight\", \"Healthy\", \"Overweight\", \"Obese\"])"
   ]
  },
  {
   "cell_type": "code",
   "execution_count": 56,
   "id": "10858470",
   "metadata": {
    "execution": {
     "iopub.execute_input": "2024-06-27T11:00:33.573718Z",
     "iopub.status.busy": "2024-06-27T11:00:33.573271Z",
     "iopub.status.idle": "2024-06-27T11:00:33.585308Z",
     "shell.execute_reply": "2024-06-27T11:00:33.583934Z"
    },
    "papermill": {
     "duration": 0.052064,
     "end_time": "2024-06-27T11:00:33.588255",
     "exception": false,
     "start_time": "2024-06-27T11:00:33.536191",
     "status": "completed"
    },
    "tags": []
   },
   "outputs": [
    {
     "data": {
      "text/plain": [
       "New_BMI\n",
       "Obese          483\n",
       "Overweight     179\n",
       "Healthy        102\n",
       "Underweight      4\n",
       "Name: count, dtype: int64"
      ]
     },
     "execution_count": 56,
     "metadata": {},
     "output_type": "execute_result"
    }
   ],
   "source": [
    "df[\"New_BMI\"].value_counts()"
   ]
  },
  {
   "cell_type": "code",
   "execution_count": 57,
   "id": "cddab53d",
   "metadata": {
    "execution": {
     "iopub.execute_input": "2024-06-27T11:00:33.663061Z",
     "iopub.status.busy": "2024-06-27T11:00:33.662595Z",
     "iopub.status.idle": "2024-06-27T11:00:33.669634Z",
     "shell.execute_reply": "2024-06-27T11:00:33.668238Z"
    },
    "papermill": {
     "duration": 0.048515,
     "end_time": "2024-06-27T11:00:33.672958",
     "exception": false,
     "start_time": "2024-06-27T11:00:33.624443",
     "status": "completed"
    },
    "tags": []
   },
   "outputs": [],
   "source": [
    "# glucose*insulin:\n",
    "\n",
    "df[\"New_Glucose*Insulin\"] = df[\"Glucose\"] * df[\"Insulin\"]"
   ]
  },
  {
   "cell_type": "code",
   "execution_count": 58,
   "id": "799b2bbc",
   "metadata": {
    "execution": {
     "iopub.execute_input": "2024-06-27T11:00:33.747848Z",
     "iopub.status.busy": "2024-06-27T11:00:33.747396Z",
     "iopub.status.idle": "2024-06-27T11:00:33.754483Z",
     "shell.execute_reply": "2024-06-27T11:00:33.753125Z"
    },
    "papermill": {
     "duration": 0.046971,
     "end_time": "2024-06-27T11:00:33.757184",
     "exception": false,
     "start_time": "2024-06-27T11:00:33.710213",
     "status": "completed"
    },
    "tags": []
   },
   "outputs": [],
   "source": [
    "# glucose*pregnancies:\n",
    "\n",
    "df[\"New_Glucose*Pregnancies\"] = df[\"Glucose\"] * df[\"Pregnancies\"]"
   ]
  },
  {
   "cell_type": "code",
   "execution_count": 59,
   "id": "80f922b1",
   "metadata": {
    "execution": {
     "iopub.execute_input": "2024-06-27T11:00:33.833061Z",
     "iopub.status.busy": "2024-06-27T11:00:33.832599Z",
     "iopub.status.idle": "2024-06-27T11:00:33.853296Z",
     "shell.execute_reply": "2024-06-27T11:00:33.852031Z"
    },
    "papermill": {
     "duration": 0.0619,
     "end_time": "2024-06-27T11:00:33.856022",
     "exception": false,
     "start_time": "2024-06-27T11:00:33.794122",
     "status": "completed"
    },
    "tags": []
   },
   "outputs": [
    {
     "data": {
      "text/html": [
       "<div>\n",
       "<style scoped>\n",
       "    .dataframe tbody tr th:only-of-type {\n",
       "        vertical-align: middle;\n",
       "    }\n",
       "\n",
       "    .dataframe tbody tr th {\n",
       "        vertical-align: top;\n",
       "    }\n",
       "\n",
       "    .dataframe thead th {\n",
       "        text-align: right;\n",
       "    }\n",
       "</style>\n",
       "<table border=\"1\" class=\"dataframe\">\n",
       "  <thead>\n",
       "    <tr style=\"text-align: right;\">\n",
       "      <th></th>\n",
       "      <th>Pregnancies</th>\n",
       "      <th>Glucose</th>\n",
       "      <th>BloodPressure</th>\n",
       "      <th>SkinThickness</th>\n",
       "      <th>Insulin</th>\n",
       "      <th>BMI</th>\n",
       "      <th>DiabetesPedigreeFunction</th>\n",
       "      <th>Age</th>\n",
       "      <th>Outcome</th>\n",
       "      <th>New_Age_Pregnancies</th>\n",
       "      <th>New_Insulin_Glucose</th>\n",
       "      <th>New_BloodPressure_BMI</th>\n",
       "      <th>New_SkinThickness_Insulin</th>\n",
       "      <th>New_BMI</th>\n",
       "      <th>New_Glucose*Insulin</th>\n",
       "      <th>New_Glucose*Pregnancies</th>\n",
       "    </tr>\n",
       "  </thead>\n",
       "  <tbody>\n",
       "    <tr>\n",
       "      <th>0</th>\n",
       "      <td>6</td>\n",
       "      <td>148.000</td>\n",
       "      <td>72.000</td>\n",
       "      <td>35.000</td>\n",
       "      <td>125.000</td>\n",
       "      <td>33.600</td>\n",
       "      <td>0.627</td>\n",
       "      <td>50</td>\n",
       "      <td>1</td>\n",
       "      <td>mature and mid preg</td>\n",
       "      <td>mid insulin and high glucose</td>\n",
       "      <td>mid BloodPressure and mid bmi</td>\n",
       "      <td>high SkinThickness and mid insulin</td>\n",
       "      <td>Obese</td>\n",
       "      <td>18500.000</td>\n",
       "      <td>888.000</td>\n",
       "    </tr>\n",
       "    <tr>\n",
       "      <th>1</th>\n",
       "      <td>1</td>\n",
       "      <td>85.000</td>\n",
       "      <td>66.000</td>\n",
       "      <td>29.000</td>\n",
       "      <td>125.000</td>\n",
       "      <td>26.600</td>\n",
       "      <td>0.351</td>\n",
       "      <td>31</td>\n",
       "      <td>0</td>\n",
       "      <td>senior and low preg</td>\n",
       "      <td>mid insulin and low glucose</td>\n",
       "      <td>mid BloodPressure and low bmi</td>\n",
       "      <td>mid SkinThickness and mid insulin</td>\n",
       "      <td>Overweight</td>\n",
       "      <td>10625.000</td>\n",
       "      <td>85.000</td>\n",
       "    </tr>\n",
       "    <tr>\n",
       "      <th>2</th>\n",
       "      <td>8</td>\n",
       "      <td>183.000</td>\n",
       "      <td>64.000</td>\n",
       "      <td>29.000</td>\n",
       "      <td>125.000</td>\n",
       "      <td>23.300</td>\n",
       "      <td>0.672</td>\n",
       "      <td>32</td>\n",
       "      <td>1</td>\n",
       "      <td>senior and high preg</td>\n",
       "      <td>mid insulin and high glucose</td>\n",
       "      <td>low BloodPressure and low bmi</td>\n",
       "      <td>mid SkinThickness and mid insulin</td>\n",
       "      <td>Healthy</td>\n",
       "      <td>22875.000</td>\n",
       "      <td>1464.000</td>\n",
       "    </tr>\n",
       "    <tr>\n",
       "      <th>3</th>\n",
       "      <td>1</td>\n",
       "      <td>89.000</td>\n",
       "      <td>66.000</td>\n",
       "      <td>23.000</td>\n",
       "      <td>94.000</td>\n",
       "      <td>28.100</td>\n",
       "      <td>0.167</td>\n",
       "      <td>21</td>\n",
       "      <td>0</td>\n",
       "      <td>young and low preg</td>\n",
       "      <td>low insulin and low glucose</td>\n",
       "      <td>mid BloodPressure and mid bmi</td>\n",
       "      <td>low SkinThickness and low insulin</td>\n",
       "      <td>Overweight</td>\n",
       "      <td>8366.000</td>\n",
       "      <td>89.000</td>\n",
       "    </tr>\n",
       "    <tr>\n",
       "      <th>4</th>\n",
       "      <td>0</td>\n",
       "      <td>137.000</td>\n",
       "      <td>40.000</td>\n",
       "      <td>35.000</td>\n",
       "      <td>168.000</td>\n",
       "      <td>43.100</td>\n",
       "      <td>2.288</td>\n",
       "      <td>33</td>\n",
       "      <td>1</td>\n",
       "      <td>senior and no preg</td>\n",
       "      <td>high insulin and mid glucose</td>\n",
       "      <td>low BloodPressure and high bmi</td>\n",
       "      <td>high SkinThickness and high insulin</td>\n",
       "      <td>Obese</td>\n",
       "      <td>23016.000</td>\n",
       "      <td>0.000</td>\n",
       "    </tr>\n",
       "  </tbody>\n",
       "</table>\n",
       "</div>"
      ],
      "text/plain": [
       "   Pregnancies  Glucose  BloodPressure  SkinThickness  Insulin    BMI  DiabetesPedigreeFunction  Age  Outcome   New_Age_Pregnancies           New_Insulin_Glucose           New_BloodPressure_BMI            New_SkinThickness_Insulin     New_BMI  New_Glucose*Insulin  New_Glucose*Pregnancies\n",
       "0            6  148.000         72.000         35.000  125.000 33.600                     0.627   50        1   mature and mid preg  mid insulin and high glucose   mid BloodPressure and mid bmi   high SkinThickness and mid insulin       Obese            18500.000                  888.000\n",
       "1            1   85.000         66.000         29.000  125.000 26.600                     0.351   31        0   senior and low preg   mid insulin and low glucose   mid BloodPressure and low bmi    mid SkinThickness and mid insulin  Overweight            10625.000                   85.000\n",
       "2            8  183.000         64.000         29.000  125.000 23.300                     0.672   32        1  senior and high preg  mid insulin and high glucose   low BloodPressure and low bmi    mid SkinThickness and mid insulin     Healthy            22875.000                 1464.000\n",
       "3            1   89.000         66.000         23.000   94.000 28.100                     0.167   21        0    young and low preg   low insulin and low glucose   mid BloodPressure and mid bmi    low SkinThickness and low insulin  Overweight             8366.000                   89.000\n",
       "4            0  137.000         40.000         35.000  168.000 43.100                     2.288   33        1    senior and no preg  high insulin and mid glucose  low BloodPressure and high bmi  high SkinThickness and high insulin       Obese            23016.000                    0.000"
      ]
     },
     "execution_count": 59,
     "metadata": {},
     "output_type": "execute_result"
    }
   ],
   "source": [
    "df.head()"
   ]
  },
  {
   "cell_type": "markdown",
   "id": "efecc241",
   "metadata": {
    "papermill": {
     "duration": 0.035541,
     "end_time": "2024-06-27T11:00:33.931268",
     "exception": false,
     "start_time": "2024-06-27T11:00:33.895727",
     "status": "completed"
    },
    "tags": []
   },
   "source": [
    "### 5.4 Encoding"
   ]
  },
  {
   "cell_type": "code",
   "execution_count": 60,
   "id": "3420e5c2",
   "metadata": {
    "execution": {
     "iopub.execute_input": "2024-06-27T11:00:34.007658Z",
     "iopub.status.busy": "2024-06-27T11:00:34.007249Z",
     "iopub.status.idle": "2024-06-27T11:00:34.012297Z",
     "shell.execute_reply": "2024-06-27T11:00:34.011109Z"
    },
    "papermill": {
     "duration": 0.046212,
     "end_time": "2024-06-27T11:00:34.015019",
     "exception": false,
     "start_time": "2024-06-27T11:00:33.968807",
     "status": "completed"
    },
    "tags": []
   },
   "outputs": [],
   "source": [
    "# for categorical columns:"
   ]
  },
  {
   "cell_type": "code",
   "execution_count": 61,
   "id": "21e45f9b",
   "metadata": {
    "execution": {
     "iopub.execute_input": "2024-06-27T11:00:34.090145Z",
     "iopub.status.busy": "2024-06-27T11:00:34.089133Z",
     "iopub.status.idle": "2024-06-27T11:00:34.096166Z",
     "shell.execute_reply": "2024-06-27T11:00:34.094733Z"
    },
    "papermill": {
     "duration": 0.047842,
     "end_time": "2024-06-27T11:00:34.099506",
     "exception": false,
     "start_time": "2024-06-27T11:00:34.051664",
     "status": "completed"
    },
    "tags": []
   },
   "outputs": [],
   "source": [
    "# defining a function for one-hot encoding:\n",
    "\n",
    "def one_hot_encoder(dataframe,cols,drop_first=True):\n",
    "    dataframe = pd.get_dummies(dataframe,columns = cols, drop_first=drop_first)\n",
    "    return dataframe"
   ]
  },
  {
   "cell_type": "code",
   "execution_count": 62,
   "id": "e415ea55",
   "metadata": {
    "execution": {
     "iopub.execute_input": "2024-06-27T11:00:34.177776Z",
     "iopub.status.busy": "2024-06-27T11:00:34.177357Z",
     "iopub.status.idle": "2024-06-27T11:00:34.191075Z",
     "shell.execute_reply": "2024-06-27T11:00:34.189832Z"
    },
    "papermill": {
     "duration": 0.056185,
     "end_time": "2024-06-27T11:00:34.193747",
     "exception": false,
     "start_time": "2024-06-27T11:00:34.137562",
     "status": "completed"
    },
    "tags": []
   },
   "outputs": [
    {
     "data": {
      "text/plain": [
       "['New_Age_Pregnancies',\n",
       " 'New_Insulin_Glucose',\n",
       " 'New_BloodPressure_BMI',\n",
       " 'New_SkinThickness_Insulin',\n",
       " 'New_BMI']"
      ]
     },
     "execution_count": 62,
     "metadata": {},
     "output_type": "execute_result"
    }
   ],
   "source": [
    "# creating a list to apply one-hot encoding:\n",
    "\n",
    "ohe_cols = [col for col in df.columns if (df[col].dtype not in [\"float64\",\"int64\"]) & (df[col].nunique() > 2) & (col not in [\"Outcome\"])]\n",
    "ohe_cols"
   ]
  },
  {
   "cell_type": "code",
   "execution_count": 63,
   "id": "1495db01",
   "metadata": {
    "execution": {
     "iopub.execute_input": "2024-06-27T11:00:34.270965Z",
     "iopub.status.busy": "2024-06-27T11:00:34.269776Z",
     "iopub.status.idle": "2024-06-27T11:00:34.284264Z",
     "shell.execute_reply": "2024-06-27T11:00:34.282881Z"
    },
    "papermill": {
     "duration": 0.055276,
     "end_time": "2024-06-27T11:00:34.287388",
     "exception": false,
     "start_time": "2024-06-27T11:00:34.232112",
     "status": "completed"
    },
    "tags": []
   },
   "outputs": [],
   "source": [
    "# applying the function:\n",
    "\n",
    "df = one_hot_encoder(df,ohe_cols)"
   ]
  },
  {
   "cell_type": "code",
   "execution_count": 64,
   "id": "94c917ff",
   "metadata": {
    "execution": {
     "iopub.execute_input": "2024-06-27T11:00:34.362753Z",
     "iopub.status.busy": "2024-06-27T11:00:34.362328Z",
     "iopub.status.idle": "2024-06-27T11:00:34.404226Z",
     "shell.execute_reply": "2024-06-27T11:00:34.403000Z"
    },
    "papermill": {
     "duration": 0.083763,
     "end_time": "2024-06-27T11:00:34.407500",
     "exception": false,
     "start_time": "2024-06-27T11:00:34.323737",
     "status": "completed"
    },
    "tags": []
   },
   "outputs": [
    {
     "data": {
      "text/html": [
       "<div>\n",
       "<style scoped>\n",
       "    .dataframe tbody tr th:only-of-type {\n",
       "        vertical-align: middle;\n",
       "    }\n",
       "\n",
       "    .dataframe tbody tr th {\n",
       "        vertical-align: top;\n",
       "    }\n",
       "\n",
       "    .dataframe thead th {\n",
       "        text-align: right;\n",
       "    }\n",
       "</style>\n",
       "<table border=\"1\" class=\"dataframe\">\n",
       "  <thead>\n",
       "    <tr style=\"text-align: right;\">\n",
       "      <th></th>\n",
       "      <th>Pregnancies</th>\n",
       "      <th>Glucose</th>\n",
       "      <th>BloodPressure</th>\n",
       "      <th>SkinThickness</th>\n",
       "      <th>Insulin</th>\n",
       "      <th>BMI</th>\n",
       "      <th>DiabetesPedigreeFunction</th>\n",
       "      <th>Age</th>\n",
       "      <th>Outcome</th>\n",
       "      <th>New_Glucose*Insulin</th>\n",
       "      <th>New_Glucose*Pregnancies</th>\n",
       "      <th>New_Age_Pregnancies_mature and low preg</th>\n",
       "      <th>New_Age_Pregnancies_mature and mid preg</th>\n",
       "      <th>New_Age_Pregnancies_mature and no preg</th>\n",
       "      <th>New_Age_Pregnancies_senior and high preg</th>\n",
       "      <th>New_Age_Pregnancies_senior and low preg</th>\n",
       "      <th>New_Age_Pregnancies_senior and mid preg</th>\n",
       "      <th>New_Age_Pregnancies_senior and no preg</th>\n",
       "      <th>New_Age_Pregnancies_young and high preg</th>\n",
       "      <th>New_Age_Pregnancies_young and low preg</th>\n",
       "      <th>New_Age_Pregnancies_young and mid preg</th>\n",
       "      <th>New_Age_Pregnancies_young and no preg</th>\n",
       "      <th>New_Insulin_Glucose_high insulin and low glucose</th>\n",
       "      <th>New_Insulin_Glucose_high insulin and mid glucose</th>\n",
       "      <th>New_Insulin_Glucose_low insulin and high glucose</th>\n",
       "      <th>New_Insulin_Glucose_low insulin and low glucose</th>\n",
       "      <th>New_Insulin_Glucose_low insulin and mid glucose</th>\n",
       "      <th>New_Insulin_Glucose_mid insulin and high glucose</th>\n",
       "      <th>New_Insulin_Glucose_mid insulin and low glucose</th>\n",
       "      <th>New_Insulin_Glucose_mid insulin and mid glucose</th>\n",
       "      <th>New_BloodPressure_BMI_high BloodPressure and low bmi</th>\n",
       "      <th>New_BloodPressure_BMI_high BloodPressure and mid bmi</th>\n",
       "      <th>New_BloodPressure_BMI_low BloodPressure and high bmi</th>\n",
       "      <th>New_BloodPressure_BMI_low BloodPressure and low bmi</th>\n",
       "      <th>New_BloodPressure_BMI_low BloodPressure and mid bmi</th>\n",
       "      <th>New_BloodPressure_BMI_mid BloodPressure and high bmi</th>\n",
       "      <th>New_BloodPressure_BMI_mid BloodPressure and low bmi</th>\n",
       "      <th>New_BloodPressure_BMI_mid BloodPressure and mid bmi</th>\n",
       "      <th>New_SkinThickness_Insulin_high SkinThickness and low insulin</th>\n",
       "      <th>New_SkinThickness_Insulin_high SkinThickness and mid insulin</th>\n",
       "      <th>New_SkinThickness_Insulin_low SkinThickness and high insulin</th>\n",
       "      <th>New_SkinThickness_Insulin_low SkinThickness and low insulin</th>\n",
       "      <th>New_SkinThickness_Insulin_low SkinThickness and mid insulin</th>\n",
       "      <th>New_SkinThickness_Insulin_mid SkinThickness and high insulin</th>\n",
       "      <th>New_SkinThickness_Insulin_mid SkinThickness and low insulin</th>\n",
       "      <th>New_SkinThickness_Insulin_mid SkinThickness and mid insulin</th>\n",
       "      <th>New_BMI_Healthy</th>\n",
       "      <th>New_BMI_Overweight</th>\n",
       "      <th>New_BMI_Obese</th>\n",
       "    </tr>\n",
       "  </thead>\n",
       "  <tbody>\n",
       "    <tr>\n",
       "      <th>0</th>\n",
       "      <td>6</td>\n",
       "      <td>148.000</td>\n",
       "      <td>72.000</td>\n",
       "      <td>35.000</td>\n",
       "      <td>125.000</td>\n",
       "      <td>33.600</td>\n",
       "      <td>0.627</td>\n",
       "      <td>50</td>\n",
       "      <td>1</td>\n",
       "      <td>18500.000</td>\n",
       "      <td>888.000</td>\n",
       "      <td>False</td>\n",
       "      <td>True</td>\n",
       "      <td>False</td>\n",
       "      <td>False</td>\n",
       "      <td>False</td>\n",
       "      <td>False</td>\n",
       "      <td>False</td>\n",
       "      <td>False</td>\n",
       "      <td>False</td>\n",
       "      <td>False</td>\n",
       "      <td>False</td>\n",
       "      <td>False</td>\n",
       "      <td>False</td>\n",
       "      <td>False</td>\n",
       "      <td>False</td>\n",
       "      <td>False</td>\n",
       "      <td>True</td>\n",
       "      <td>False</td>\n",
       "      <td>False</td>\n",
       "      <td>False</td>\n",
       "      <td>False</td>\n",
       "      <td>False</td>\n",
       "      <td>False</td>\n",
       "      <td>False</td>\n",
       "      <td>False</td>\n",
       "      <td>False</td>\n",
       "      <td>True</td>\n",
       "      <td>False</td>\n",
       "      <td>True</td>\n",
       "      <td>False</td>\n",
       "      <td>False</td>\n",
       "      <td>False</td>\n",
       "      <td>False</td>\n",
       "      <td>False</td>\n",
       "      <td>False</td>\n",
       "      <td>False</td>\n",
       "      <td>False</td>\n",
       "      <td>True</td>\n",
       "    </tr>\n",
       "    <tr>\n",
       "      <th>1</th>\n",
       "      <td>1</td>\n",
       "      <td>85.000</td>\n",
       "      <td>66.000</td>\n",
       "      <td>29.000</td>\n",
       "      <td>125.000</td>\n",
       "      <td>26.600</td>\n",
       "      <td>0.351</td>\n",
       "      <td>31</td>\n",
       "      <td>0</td>\n",
       "      <td>10625.000</td>\n",
       "      <td>85.000</td>\n",
       "      <td>False</td>\n",
       "      <td>False</td>\n",
       "      <td>False</td>\n",
       "      <td>False</td>\n",
       "      <td>True</td>\n",
       "      <td>False</td>\n",
       "      <td>False</td>\n",
       "      <td>False</td>\n",
       "      <td>False</td>\n",
       "      <td>False</td>\n",
       "      <td>False</td>\n",
       "      <td>False</td>\n",
       "      <td>False</td>\n",
       "      <td>False</td>\n",
       "      <td>False</td>\n",
       "      <td>False</td>\n",
       "      <td>False</td>\n",
       "      <td>True</td>\n",
       "      <td>False</td>\n",
       "      <td>False</td>\n",
       "      <td>False</td>\n",
       "      <td>False</td>\n",
       "      <td>False</td>\n",
       "      <td>False</td>\n",
       "      <td>False</td>\n",
       "      <td>True</td>\n",
       "      <td>False</td>\n",
       "      <td>False</td>\n",
       "      <td>False</td>\n",
       "      <td>False</td>\n",
       "      <td>False</td>\n",
       "      <td>False</td>\n",
       "      <td>False</td>\n",
       "      <td>False</td>\n",
       "      <td>True</td>\n",
       "      <td>False</td>\n",
       "      <td>True</td>\n",
       "      <td>False</td>\n",
       "    </tr>\n",
       "    <tr>\n",
       "      <th>2</th>\n",
       "      <td>8</td>\n",
       "      <td>183.000</td>\n",
       "      <td>64.000</td>\n",
       "      <td>29.000</td>\n",
       "      <td>125.000</td>\n",
       "      <td>23.300</td>\n",
       "      <td>0.672</td>\n",
       "      <td>32</td>\n",
       "      <td>1</td>\n",
       "      <td>22875.000</td>\n",
       "      <td>1464.000</td>\n",
       "      <td>False</td>\n",
       "      <td>False</td>\n",
       "      <td>False</td>\n",
       "      <td>True</td>\n",
       "      <td>False</td>\n",
       "      <td>False</td>\n",
       "      <td>False</td>\n",
       "      <td>False</td>\n",
       "      <td>False</td>\n",
       "      <td>False</td>\n",
       "      <td>False</td>\n",
       "      <td>False</td>\n",
       "      <td>False</td>\n",
       "      <td>False</td>\n",
       "      <td>False</td>\n",
       "      <td>False</td>\n",
       "      <td>True</td>\n",
       "      <td>False</td>\n",
       "      <td>False</td>\n",
       "      <td>False</td>\n",
       "      <td>False</td>\n",
       "      <td>False</td>\n",
       "      <td>True</td>\n",
       "      <td>False</td>\n",
       "      <td>False</td>\n",
       "      <td>False</td>\n",
       "      <td>False</td>\n",
       "      <td>False</td>\n",
       "      <td>False</td>\n",
       "      <td>False</td>\n",
       "      <td>False</td>\n",
       "      <td>False</td>\n",
       "      <td>False</td>\n",
       "      <td>False</td>\n",
       "      <td>True</td>\n",
       "      <td>True</td>\n",
       "      <td>False</td>\n",
       "      <td>False</td>\n",
       "    </tr>\n",
       "    <tr>\n",
       "      <th>3</th>\n",
       "      <td>1</td>\n",
       "      <td>89.000</td>\n",
       "      <td>66.000</td>\n",
       "      <td>23.000</td>\n",
       "      <td>94.000</td>\n",
       "      <td>28.100</td>\n",
       "      <td>0.167</td>\n",
       "      <td>21</td>\n",
       "      <td>0</td>\n",
       "      <td>8366.000</td>\n",
       "      <td>89.000</td>\n",
       "      <td>False</td>\n",
       "      <td>False</td>\n",
       "      <td>False</td>\n",
       "      <td>False</td>\n",
       "      <td>False</td>\n",
       "      <td>False</td>\n",
       "      <td>False</td>\n",
       "      <td>False</td>\n",
       "      <td>True</td>\n",
       "      <td>False</td>\n",
       "      <td>False</td>\n",
       "      <td>False</td>\n",
       "      <td>False</td>\n",
       "      <td>False</td>\n",
       "      <td>True</td>\n",
       "      <td>False</td>\n",
       "      <td>False</td>\n",
       "      <td>False</td>\n",
       "      <td>False</td>\n",
       "      <td>False</td>\n",
       "      <td>False</td>\n",
       "      <td>False</td>\n",
       "      <td>False</td>\n",
       "      <td>False</td>\n",
       "      <td>False</td>\n",
       "      <td>False</td>\n",
       "      <td>True</td>\n",
       "      <td>False</td>\n",
       "      <td>False</td>\n",
       "      <td>False</td>\n",
       "      <td>True</td>\n",
       "      <td>False</td>\n",
       "      <td>False</td>\n",
       "      <td>False</td>\n",
       "      <td>False</td>\n",
       "      <td>False</td>\n",
       "      <td>True</td>\n",
       "      <td>False</td>\n",
       "    </tr>\n",
       "    <tr>\n",
       "      <th>4</th>\n",
       "      <td>0</td>\n",
       "      <td>137.000</td>\n",
       "      <td>40.000</td>\n",
       "      <td>35.000</td>\n",
       "      <td>168.000</td>\n",
       "      <td>43.100</td>\n",
       "      <td>2.288</td>\n",
       "      <td>33</td>\n",
       "      <td>1</td>\n",
       "      <td>23016.000</td>\n",
       "      <td>0.000</td>\n",
       "      <td>False</td>\n",
       "      <td>False</td>\n",
       "      <td>False</td>\n",
       "      <td>False</td>\n",
       "      <td>False</td>\n",
       "      <td>False</td>\n",
       "      <td>True</td>\n",
       "      <td>False</td>\n",
       "      <td>False</td>\n",
       "      <td>False</td>\n",
       "      <td>False</td>\n",
       "      <td>False</td>\n",
       "      <td>True</td>\n",
       "      <td>False</td>\n",
       "      <td>False</td>\n",
       "      <td>False</td>\n",
       "      <td>False</td>\n",
       "      <td>False</td>\n",
       "      <td>False</td>\n",
       "      <td>False</td>\n",
       "      <td>False</td>\n",
       "      <td>True</td>\n",
       "      <td>False</td>\n",
       "      <td>False</td>\n",
       "      <td>False</td>\n",
       "      <td>False</td>\n",
       "      <td>False</td>\n",
       "      <td>False</td>\n",
       "      <td>False</td>\n",
       "      <td>False</td>\n",
       "      <td>False</td>\n",
       "      <td>False</td>\n",
       "      <td>False</td>\n",
       "      <td>False</td>\n",
       "      <td>False</td>\n",
       "      <td>False</td>\n",
       "      <td>False</td>\n",
       "      <td>True</td>\n",
       "    </tr>\n",
       "  </tbody>\n",
       "</table>\n",
       "</div>"
      ],
      "text/plain": [
       "   Pregnancies  Glucose  BloodPressure  SkinThickness  Insulin    BMI  DiabetesPedigreeFunction  Age  Outcome  New_Glucose*Insulin  New_Glucose*Pregnancies  New_Age_Pregnancies_mature and low preg  New_Age_Pregnancies_mature and mid preg  New_Age_Pregnancies_mature and no preg  New_Age_Pregnancies_senior and high preg  New_Age_Pregnancies_senior and low preg  New_Age_Pregnancies_senior and mid preg  New_Age_Pregnancies_senior and no preg  New_Age_Pregnancies_young and high preg  \\\n",
       "0            6  148.000         72.000         35.000  125.000 33.600                     0.627   50        1            18500.000                  888.000                                    False                                     True                                   False                                     False                                    False                                    False                                   False                                    False   \n",
       "1            1   85.000         66.000         29.000  125.000 26.600                     0.351   31        0            10625.000                   85.000                                    False                                    False                                   False                                     False                                     True                                    False                                   False                                    False   \n",
       "2            8  183.000         64.000         29.000  125.000 23.300                     0.672   32        1            22875.000                 1464.000                                    False                                    False                                   False                                      True                                    False                                    False                                   False                                    False   \n",
       "3            1   89.000         66.000         23.000   94.000 28.100                     0.167   21        0             8366.000                   89.000                                    False                                    False                                   False                                     False                                    False                                    False                                   False                                    False   \n",
       "4            0  137.000         40.000         35.000  168.000 43.100                     2.288   33        1            23016.000                    0.000                                    False                                    False                                   False                                     False                                    False                                    False                                    True                                    False   \n",
       "\n",
       "   New_Age_Pregnancies_young and low preg  New_Age_Pregnancies_young and mid preg  New_Age_Pregnancies_young and no preg  New_Insulin_Glucose_high insulin and low glucose  New_Insulin_Glucose_high insulin and mid glucose  New_Insulin_Glucose_low insulin and high glucose  New_Insulin_Glucose_low insulin and low glucose  New_Insulin_Glucose_low insulin and mid glucose  New_Insulin_Glucose_mid insulin and high glucose  New_Insulin_Glucose_mid insulin and low glucose  \\\n",
       "0                                   False                                   False                                  False                                             False                                             False                                             False                                            False                                            False                                              True                                            False   \n",
       "1                                   False                                   False                                  False                                             False                                             False                                             False                                            False                                            False                                             False                                             True   \n",
       "2                                   False                                   False                                  False                                             False                                             False                                             False                                            False                                            False                                              True                                            False   \n",
       "3                                    True                                   False                                  False                                             False                                             False                                             False                                             True                                            False                                             False                                            False   \n",
       "4                                   False                                   False                                  False                                             False                                              True                                             False                                            False                                            False                                             False                                            False   \n",
       "\n",
       "   New_Insulin_Glucose_mid insulin and mid glucose  New_BloodPressure_BMI_high BloodPressure and low bmi  New_BloodPressure_BMI_high BloodPressure and mid bmi  New_BloodPressure_BMI_low BloodPressure and high bmi  New_BloodPressure_BMI_low BloodPressure and low bmi  New_BloodPressure_BMI_low BloodPressure and mid bmi  New_BloodPressure_BMI_mid BloodPressure and high bmi  New_BloodPressure_BMI_mid BloodPressure and low bmi  New_BloodPressure_BMI_mid BloodPressure and mid bmi  \\\n",
       "0                                            False                                              False                                                 False                                                 False                                                 False                                                False                                                False                                                 False                                                 True     \n",
       "1                                            False                                              False                                                 False                                                 False                                                 False                                                False                                                False                                                  True                                                False     \n",
       "2                                            False                                              False                                                 False                                                 False                                                  True                                                False                                                False                                                 False                                                False     \n",
       "3                                            False                                              False                                                 False                                                 False                                                 False                                                False                                                False                                                 False                                                 True     \n",
       "4                                            False                                              False                                                 False                                                  True                                                 False                                                False                                                False                                                 False                                                False     \n",
       "\n",
       "   New_SkinThickness_Insulin_high SkinThickness and low insulin  New_SkinThickness_Insulin_high SkinThickness and mid insulin  New_SkinThickness_Insulin_low SkinThickness and high insulin  New_SkinThickness_Insulin_low SkinThickness and low insulin  New_SkinThickness_Insulin_low SkinThickness and mid insulin  New_SkinThickness_Insulin_mid SkinThickness and high insulin  New_SkinThickness_Insulin_mid SkinThickness and low insulin  New_SkinThickness_Insulin_mid SkinThickness and mid insulin  \\\n",
       "0                                              False                                                          True                                                         False                                                         False                                                        False                                                        False                                                         False                                                        False             \n",
       "1                                              False                                                         False                                                         False                                                         False                                                        False                                                        False                                                         False                                                         True             \n",
       "2                                              False                                                         False                                                         False                                                         False                                                        False                                                        False                                                         False                                                         True             \n",
       "3                                              False                                                         False                                                         False                                                          True                                                        False                                                        False                                                         False                                                        False             \n",
       "4                                              False                                                         False                                                         False                                                         False                                                        False                                                        False                                                         False                                                        False             \n",
       "\n",
       "   New_BMI_Healthy  New_BMI_Overweight  New_BMI_Obese  \n",
       "0            False               False           True  \n",
       "1            False                True          False  \n",
       "2             True               False          False  \n",
       "3            False                True          False  \n",
       "4            False               False           True  "
      ]
     },
     "execution_count": 64,
     "metadata": {},
     "output_type": "execute_result"
    }
   ],
   "source": [
    "df.head() "
   ]
  },
  {
   "cell_type": "markdown",
   "id": "59b0ad98",
   "metadata": {
    "papermill": {
     "duration": 0.04036,
     "end_time": "2024-06-27T11:00:34.485220",
     "exception": false,
     "start_time": "2024-06-27T11:00:34.444860",
     "status": "completed"
    },
    "tags": []
   },
   "source": [
    "### 5.5 Feature Scaling"
   ]
  },
  {
   "cell_type": "code",
   "execution_count": 65,
   "id": "0ee443d2",
   "metadata": {
    "execution": {
     "iopub.execute_input": "2024-06-27T11:00:34.563139Z",
     "iopub.status.busy": "2024-06-27T11:00:34.562673Z",
     "iopub.status.idle": "2024-06-27T11:00:34.568225Z",
     "shell.execute_reply": "2024-06-27T11:00:34.566898Z"
    },
    "papermill": {
     "duration": 0.047115,
     "end_time": "2024-06-27T11:00:34.570936",
     "exception": false,
     "start_time": "2024-06-27T11:00:34.523821",
     "status": "completed"
    },
    "tags": []
   },
   "outputs": [],
   "source": [
    "# for numerical columns:"
   ]
  },
  {
   "cell_type": "code",
   "execution_count": 66,
   "id": "615c688e",
   "metadata": {
    "execution": {
     "iopub.execute_input": "2024-06-27T11:00:34.648905Z",
     "iopub.status.busy": "2024-06-27T11:00:34.648468Z",
     "iopub.status.idle": "2024-06-27T11:00:34.657406Z",
     "shell.execute_reply": "2024-06-27T11:00:34.655847Z"
    },
    "papermill": {
     "duration": 0.050612,
     "end_time": "2024-06-27T11:00:34.660245",
     "exception": false,
     "start_time": "2024-06-27T11:00:34.609633",
     "status": "completed"
    },
    "tags": []
   },
   "outputs": [
    {
     "data": {
      "text/plain": [
       "['Pregnancies',\n",
       " 'Glucose',\n",
       " 'BloodPressure',\n",
       " 'SkinThickness',\n",
       " 'Insulin',\n",
       " 'BMI',\n",
       " 'DiabetesPedigreeFunction',\n",
       " 'Age']"
      ]
     },
     "execution_count": 66,
     "metadata": {},
     "output_type": "execute_result"
    }
   ],
   "source": [
    "# numerical columns:\n",
    "\n",
    "num_cols"
   ]
  },
  {
   "cell_type": "code",
   "execution_count": 67,
   "id": "80c0592e",
   "metadata": {
    "execution": {
     "iopub.execute_input": "2024-06-27T11:00:34.737831Z",
     "iopub.status.busy": "2024-06-27T11:00:34.736896Z",
     "iopub.status.idle": "2024-06-27T11:00:34.749880Z",
     "shell.execute_reply": "2024-06-27T11:00:34.748312Z"
    },
    "papermill": {
     "duration": 0.055439,
     "end_time": "2024-06-27T11:00:34.752817",
     "exception": false,
     "start_time": "2024-06-27T11:00:34.697378",
     "status": "completed"
    },
    "tags": []
   },
   "outputs": [],
   "source": [
    "# standardization of numerical variables:\n",
    "\n",
    "ss = StandardScaler()\n",
    "df[num_cols] = ss.fit_transform(df[num_cols])"
   ]
  },
  {
   "cell_type": "code",
   "execution_count": 68,
   "id": "ef3136c5",
   "metadata": {
    "execution": {
     "iopub.execute_input": "2024-06-27T11:00:34.829402Z",
     "iopub.status.busy": "2024-06-27T11:00:34.828889Z",
     "iopub.status.idle": "2024-06-27T11:00:34.871837Z",
     "shell.execute_reply": "2024-06-27T11:00:34.868974Z"
    },
    "papermill": {
     "duration": 0.084677,
     "end_time": "2024-06-27T11:00:34.874765",
     "exception": false,
     "start_time": "2024-06-27T11:00:34.790088",
     "status": "completed"
    },
    "tags": []
   },
   "outputs": [
    {
     "data": {
      "text/html": [
       "<div>\n",
       "<style scoped>\n",
       "    .dataframe tbody tr th:only-of-type {\n",
       "        vertical-align: middle;\n",
       "    }\n",
       "\n",
       "    .dataframe tbody tr th {\n",
       "        vertical-align: top;\n",
       "    }\n",
       "\n",
       "    .dataframe thead th {\n",
       "        text-align: right;\n",
       "    }\n",
       "</style>\n",
       "<table border=\"1\" class=\"dataframe\">\n",
       "  <thead>\n",
       "    <tr style=\"text-align: right;\">\n",
       "      <th></th>\n",
       "      <th>Pregnancies</th>\n",
       "      <th>Glucose</th>\n",
       "      <th>BloodPressure</th>\n",
       "      <th>SkinThickness</th>\n",
       "      <th>Insulin</th>\n",
       "      <th>BMI</th>\n",
       "      <th>DiabetesPedigreeFunction</th>\n",
       "      <th>Age</th>\n",
       "      <th>Outcome</th>\n",
       "      <th>New_Glucose*Insulin</th>\n",
       "      <th>New_Glucose*Pregnancies</th>\n",
       "      <th>New_Age_Pregnancies_mature and low preg</th>\n",
       "      <th>New_Age_Pregnancies_mature and mid preg</th>\n",
       "      <th>New_Age_Pregnancies_mature and no preg</th>\n",
       "      <th>New_Age_Pregnancies_senior and high preg</th>\n",
       "      <th>New_Age_Pregnancies_senior and low preg</th>\n",
       "      <th>New_Age_Pregnancies_senior and mid preg</th>\n",
       "      <th>New_Age_Pregnancies_senior and no preg</th>\n",
       "      <th>New_Age_Pregnancies_young and high preg</th>\n",
       "      <th>New_Age_Pregnancies_young and low preg</th>\n",
       "      <th>New_Age_Pregnancies_young and mid preg</th>\n",
       "      <th>New_Age_Pregnancies_young and no preg</th>\n",
       "      <th>New_Insulin_Glucose_high insulin and low glucose</th>\n",
       "      <th>New_Insulin_Glucose_high insulin and mid glucose</th>\n",
       "      <th>New_Insulin_Glucose_low insulin and high glucose</th>\n",
       "      <th>New_Insulin_Glucose_low insulin and low glucose</th>\n",
       "      <th>New_Insulin_Glucose_low insulin and mid glucose</th>\n",
       "      <th>New_Insulin_Glucose_mid insulin and high glucose</th>\n",
       "      <th>New_Insulin_Glucose_mid insulin and low glucose</th>\n",
       "      <th>New_Insulin_Glucose_mid insulin and mid glucose</th>\n",
       "      <th>New_BloodPressure_BMI_high BloodPressure and low bmi</th>\n",
       "      <th>New_BloodPressure_BMI_high BloodPressure and mid bmi</th>\n",
       "      <th>New_BloodPressure_BMI_low BloodPressure and high bmi</th>\n",
       "      <th>New_BloodPressure_BMI_low BloodPressure and low bmi</th>\n",
       "      <th>New_BloodPressure_BMI_low BloodPressure and mid bmi</th>\n",
       "      <th>New_BloodPressure_BMI_mid BloodPressure and high bmi</th>\n",
       "      <th>New_BloodPressure_BMI_mid BloodPressure and low bmi</th>\n",
       "      <th>New_BloodPressure_BMI_mid BloodPressure and mid bmi</th>\n",
       "      <th>New_SkinThickness_Insulin_high SkinThickness and low insulin</th>\n",
       "      <th>New_SkinThickness_Insulin_high SkinThickness and mid insulin</th>\n",
       "      <th>New_SkinThickness_Insulin_low SkinThickness and high insulin</th>\n",
       "      <th>New_SkinThickness_Insulin_low SkinThickness and low insulin</th>\n",
       "      <th>New_SkinThickness_Insulin_low SkinThickness and mid insulin</th>\n",
       "      <th>New_SkinThickness_Insulin_mid SkinThickness and high insulin</th>\n",
       "      <th>New_SkinThickness_Insulin_mid SkinThickness and low insulin</th>\n",
       "      <th>New_SkinThickness_Insulin_mid SkinThickness and mid insulin</th>\n",
       "      <th>New_BMI_Healthy</th>\n",
       "      <th>New_BMI_Overweight</th>\n",
       "      <th>New_BMI_Obese</th>\n",
       "    </tr>\n",
       "  </thead>\n",
       "  <tbody>\n",
       "    <tr>\n",
       "      <th>0</th>\n",
       "      <td>0.640</td>\n",
       "      <td>0.866</td>\n",
       "      <td>-0.032</td>\n",
       "      <td>0.671</td>\n",
       "      <td>-0.183</td>\n",
       "      <td>0.167</td>\n",
       "      <td>0.468</td>\n",
       "      <td>1.426</td>\n",
       "      <td>1</td>\n",
       "      <td>18500.000</td>\n",
       "      <td>888.000</td>\n",
       "      <td>False</td>\n",
       "      <td>True</td>\n",
       "      <td>False</td>\n",
       "      <td>False</td>\n",
       "      <td>False</td>\n",
       "      <td>False</td>\n",
       "      <td>False</td>\n",
       "      <td>False</td>\n",
       "      <td>False</td>\n",
       "      <td>False</td>\n",
       "      <td>False</td>\n",
       "      <td>False</td>\n",
       "      <td>False</td>\n",
       "      <td>False</td>\n",
       "      <td>False</td>\n",
       "      <td>False</td>\n",
       "      <td>True</td>\n",
       "      <td>False</td>\n",
       "      <td>False</td>\n",
       "      <td>False</td>\n",
       "      <td>False</td>\n",
       "      <td>False</td>\n",
       "      <td>False</td>\n",
       "      <td>False</td>\n",
       "      <td>False</td>\n",
       "      <td>False</td>\n",
       "      <td>True</td>\n",
       "      <td>False</td>\n",
       "      <td>True</td>\n",
       "      <td>False</td>\n",
       "      <td>False</td>\n",
       "      <td>False</td>\n",
       "      <td>False</td>\n",
       "      <td>False</td>\n",
       "      <td>False</td>\n",
       "      <td>False</td>\n",
       "      <td>False</td>\n",
       "      <td>True</td>\n",
       "    </tr>\n",
       "    <tr>\n",
       "      <th>1</th>\n",
       "      <td>-0.845</td>\n",
       "      <td>-1.205</td>\n",
       "      <td>-0.528</td>\n",
       "      <td>-0.012</td>\n",
       "      <td>-0.183</td>\n",
       "      <td>-0.852</td>\n",
       "      <td>-0.365</td>\n",
       "      <td>-0.191</td>\n",
       "      <td>0</td>\n",
       "      <td>10625.000</td>\n",
       "      <td>85.000</td>\n",
       "      <td>False</td>\n",
       "      <td>False</td>\n",
       "      <td>False</td>\n",
       "      <td>False</td>\n",
       "      <td>True</td>\n",
       "      <td>False</td>\n",
       "      <td>False</td>\n",
       "      <td>False</td>\n",
       "      <td>False</td>\n",
       "      <td>False</td>\n",
       "      <td>False</td>\n",
       "      <td>False</td>\n",
       "      <td>False</td>\n",
       "      <td>False</td>\n",
       "      <td>False</td>\n",
       "      <td>False</td>\n",
       "      <td>False</td>\n",
       "      <td>True</td>\n",
       "      <td>False</td>\n",
       "      <td>False</td>\n",
       "      <td>False</td>\n",
       "      <td>False</td>\n",
       "      <td>False</td>\n",
       "      <td>False</td>\n",
       "      <td>False</td>\n",
       "      <td>True</td>\n",
       "      <td>False</td>\n",
       "      <td>False</td>\n",
       "      <td>False</td>\n",
       "      <td>False</td>\n",
       "      <td>False</td>\n",
       "      <td>False</td>\n",
       "      <td>False</td>\n",
       "      <td>False</td>\n",
       "      <td>True</td>\n",
       "      <td>False</td>\n",
       "      <td>True</td>\n",
       "      <td>False</td>\n",
       "    </tr>\n",
       "    <tr>\n",
       "      <th>2</th>\n",
       "      <td>1.234</td>\n",
       "      <td>2.017</td>\n",
       "      <td>-0.694</td>\n",
       "      <td>-0.012</td>\n",
       "      <td>-0.183</td>\n",
       "      <td>-1.333</td>\n",
       "      <td>0.604</td>\n",
       "      <td>-0.106</td>\n",
       "      <td>1</td>\n",
       "      <td>22875.000</td>\n",
       "      <td>1464.000</td>\n",
       "      <td>False</td>\n",
       "      <td>False</td>\n",
       "      <td>False</td>\n",
       "      <td>True</td>\n",
       "      <td>False</td>\n",
       "      <td>False</td>\n",
       "      <td>False</td>\n",
       "      <td>False</td>\n",
       "      <td>False</td>\n",
       "      <td>False</td>\n",
       "      <td>False</td>\n",
       "      <td>False</td>\n",
       "      <td>False</td>\n",
       "      <td>False</td>\n",
       "      <td>False</td>\n",
       "      <td>False</td>\n",
       "      <td>True</td>\n",
       "      <td>False</td>\n",
       "      <td>False</td>\n",
       "      <td>False</td>\n",
       "      <td>False</td>\n",
       "      <td>False</td>\n",
       "      <td>True</td>\n",
       "      <td>False</td>\n",
       "      <td>False</td>\n",
       "      <td>False</td>\n",
       "      <td>False</td>\n",
       "      <td>False</td>\n",
       "      <td>False</td>\n",
       "      <td>False</td>\n",
       "      <td>False</td>\n",
       "      <td>False</td>\n",
       "      <td>False</td>\n",
       "      <td>False</td>\n",
       "      <td>True</td>\n",
       "      <td>True</td>\n",
       "      <td>False</td>\n",
       "      <td>False</td>\n",
       "    </tr>\n",
       "    <tr>\n",
       "      <th>3</th>\n",
       "      <td>-0.845</td>\n",
       "      <td>-1.074</td>\n",
       "      <td>-0.528</td>\n",
       "      <td>-0.695</td>\n",
       "      <td>-0.553</td>\n",
       "      <td>-0.634</td>\n",
       "      <td>-0.921</td>\n",
       "      <td>-1.042</td>\n",
       "      <td>0</td>\n",
       "      <td>8366.000</td>\n",
       "      <td>89.000</td>\n",
       "      <td>False</td>\n",
       "      <td>False</td>\n",
       "      <td>False</td>\n",
       "      <td>False</td>\n",
       "      <td>False</td>\n",
       "      <td>False</td>\n",
       "      <td>False</td>\n",
       "      <td>False</td>\n",
       "      <td>True</td>\n",
       "      <td>False</td>\n",
       "      <td>False</td>\n",
       "      <td>False</td>\n",
       "      <td>False</td>\n",
       "      <td>False</td>\n",
       "      <td>True</td>\n",
       "      <td>False</td>\n",
       "      <td>False</td>\n",
       "      <td>False</td>\n",
       "      <td>False</td>\n",
       "      <td>False</td>\n",
       "      <td>False</td>\n",
       "      <td>False</td>\n",
       "      <td>False</td>\n",
       "      <td>False</td>\n",
       "      <td>False</td>\n",
       "      <td>False</td>\n",
       "      <td>True</td>\n",
       "      <td>False</td>\n",
       "      <td>False</td>\n",
       "      <td>False</td>\n",
       "      <td>True</td>\n",
       "      <td>False</td>\n",
       "      <td>False</td>\n",
       "      <td>False</td>\n",
       "      <td>False</td>\n",
       "      <td>False</td>\n",
       "      <td>True</td>\n",
       "      <td>False</td>\n",
       "    </tr>\n",
       "    <tr>\n",
       "      <th>4</th>\n",
       "      <td>-1.142</td>\n",
       "      <td>0.504</td>\n",
       "      <td>-2.679</td>\n",
       "      <td>0.671</td>\n",
       "      <td>0.331</td>\n",
       "      <td>1.549</td>\n",
       "      <td>5.485</td>\n",
       "      <td>-0.020</td>\n",
       "      <td>1</td>\n",
       "      <td>23016.000</td>\n",
       "      <td>0.000</td>\n",
       "      <td>False</td>\n",
       "      <td>False</td>\n",
       "      <td>False</td>\n",
       "      <td>False</td>\n",
       "      <td>False</td>\n",
       "      <td>False</td>\n",
       "      <td>True</td>\n",
       "      <td>False</td>\n",
       "      <td>False</td>\n",
       "      <td>False</td>\n",
       "      <td>False</td>\n",
       "      <td>False</td>\n",
       "      <td>True</td>\n",
       "      <td>False</td>\n",
       "      <td>False</td>\n",
       "      <td>False</td>\n",
       "      <td>False</td>\n",
       "      <td>False</td>\n",
       "      <td>False</td>\n",
       "      <td>False</td>\n",
       "      <td>False</td>\n",
       "      <td>True</td>\n",
       "      <td>False</td>\n",
       "      <td>False</td>\n",
       "      <td>False</td>\n",
       "      <td>False</td>\n",
       "      <td>False</td>\n",
       "      <td>False</td>\n",
       "      <td>False</td>\n",
       "      <td>False</td>\n",
       "      <td>False</td>\n",
       "      <td>False</td>\n",
       "      <td>False</td>\n",
       "      <td>False</td>\n",
       "      <td>False</td>\n",
       "      <td>False</td>\n",
       "      <td>False</td>\n",
       "      <td>True</td>\n",
       "    </tr>\n",
       "  </tbody>\n",
       "</table>\n",
       "</div>"
      ],
      "text/plain": [
       "   Pregnancies  Glucose  BloodPressure  SkinThickness  Insulin    BMI  DiabetesPedigreeFunction    Age  Outcome  New_Glucose*Insulin  New_Glucose*Pregnancies  New_Age_Pregnancies_mature and low preg  New_Age_Pregnancies_mature and mid preg  New_Age_Pregnancies_mature and no preg  New_Age_Pregnancies_senior and high preg  New_Age_Pregnancies_senior and low preg  New_Age_Pregnancies_senior and mid preg  New_Age_Pregnancies_senior and no preg  New_Age_Pregnancies_young and high preg  \\\n",
       "0        0.640    0.866         -0.032          0.671   -0.183  0.167                     0.468  1.426        1            18500.000                  888.000                                    False                                     True                                   False                                     False                                    False                                    False                                   False                                    False   \n",
       "1       -0.845   -1.205         -0.528         -0.012   -0.183 -0.852                    -0.365 -0.191        0            10625.000                   85.000                                    False                                    False                                   False                                     False                                     True                                    False                                   False                                    False   \n",
       "2        1.234    2.017         -0.694         -0.012   -0.183 -1.333                     0.604 -0.106        1            22875.000                 1464.000                                    False                                    False                                   False                                      True                                    False                                    False                                   False                                    False   \n",
       "3       -0.845   -1.074         -0.528         -0.695   -0.553 -0.634                    -0.921 -1.042        0             8366.000                   89.000                                    False                                    False                                   False                                     False                                    False                                    False                                   False                                    False   \n",
       "4       -1.142    0.504         -2.679          0.671    0.331  1.549                     5.485 -0.020        1            23016.000                    0.000                                    False                                    False                                   False                                     False                                    False                                    False                                    True                                    False   \n",
       "\n",
       "   New_Age_Pregnancies_young and low preg  New_Age_Pregnancies_young and mid preg  New_Age_Pregnancies_young and no preg  New_Insulin_Glucose_high insulin and low glucose  New_Insulin_Glucose_high insulin and mid glucose  New_Insulin_Glucose_low insulin and high glucose  New_Insulin_Glucose_low insulin and low glucose  New_Insulin_Glucose_low insulin and mid glucose  New_Insulin_Glucose_mid insulin and high glucose  New_Insulin_Glucose_mid insulin and low glucose  \\\n",
       "0                                   False                                   False                                  False                                             False                                             False                                             False                                            False                                            False                                              True                                            False   \n",
       "1                                   False                                   False                                  False                                             False                                             False                                             False                                            False                                            False                                             False                                             True   \n",
       "2                                   False                                   False                                  False                                             False                                             False                                             False                                            False                                            False                                              True                                            False   \n",
       "3                                    True                                   False                                  False                                             False                                             False                                             False                                             True                                            False                                             False                                            False   \n",
       "4                                   False                                   False                                  False                                             False                                              True                                             False                                            False                                            False                                             False                                            False   \n",
       "\n",
       "   New_Insulin_Glucose_mid insulin and mid glucose  New_BloodPressure_BMI_high BloodPressure and low bmi  New_BloodPressure_BMI_high BloodPressure and mid bmi  New_BloodPressure_BMI_low BloodPressure and high bmi  New_BloodPressure_BMI_low BloodPressure and low bmi  New_BloodPressure_BMI_low BloodPressure and mid bmi  New_BloodPressure_BMI_mid BloodPressure and high bmi  New_BloodPressure_BMI_mid BloodPressure and low bmi  New_BloodPressure_BMI_mid BloodPressure and mid bmi  \\\n",
       "0                                            False                                              False                                                 False                                                 False                                                 False                                                False                                                False                                                 False                                                 True     \n",
       "1                                            False                                              False                                                 False                                                 False                                                 False                                                False                                                False                                                  True                                                False     \n",
       "2                                            False                                              False                                                 False                                                 False                                                  True                                                False                                                False                                                 False                                                False     \n",
       "3                                            False                                              False                                                 False                                                 False                                                 False                                                False                                                False                                                 False                                                 True     \n",
       "4                                            False                                              False                                                 False                                                  True                                                 False                                                False                                                False                                                 False                                                False     \n",
       "\n",
       "   New_SkinThickness_Insulin_high SkinThickness and low insulin  New_SkinThickness_Insulin_high SkinThickness and mid insulin  New_SkinThickness_Insulin_low SkinThickness and high insulin  New_SkinThickness_Insulin_low SkinThickness and low insulin  New_SkinThickness_Insulin_low SkinThickness and mid insulin  New_SkinThickness_Insulin_mid SkinThickness and high insulin  New_SkinThickness_Insulin_mid SkinThickness and low insulin  New_SkinThickness_Insulin_mid SkinThickness and mid insulin  \\\n",
       "0                                              False                                                          True                                                         False                                                         False                                                        False                                                        False                                                         False                                                        False             \n",
       "1                                              False                                                         False                                                         False                                                         False                                                        False                                                        False                                                         False                                                         True             \n",
       "2                                              False                                                         False                                                         False                                                         False                                                        False                                                        False                                                         False                                                         True             \n",
       "3                                              False                                                         False                                                         False                                                          True                                                        False                                                        False                                                         False                                                        False             \n",
       "4                                              False                                                         False                                                         False                                                         False                                                        False                                                        False                                                         False                                                        False             \n",
       "\n",
       "   New_BMI_Healthy  New_BMI_Overweight  New_BMI_Obese  \n",
       "0            False               False           True  \n",
       "1            False                True          False  \n",
       "2             True               False          False  \n",
       "3            False                True          False  \n",
       "4            False               False           True  "
      ]
     },
     "execution_count": 68,
     "metadata": {},
     "output_type": "execute_result"
    }
   ],
   "source": [
    "df.head() # display first 5 columns again"
   ]
  },
  {
   "cell_type": "markdown",
   "id": "9e0ca707",
   "metadata": {
    "papermill": {
     "duration": 0.038205,
     "end_time": "2024-06-27T11:00:34.951029",
     "exception": false,
     "start_time": "2024-06-27T11:00:34.912824",
     "status": "completed"
    },
    "tags": []
   },
   "source": [
    "## 6. Modeling"
   ]
  },
  {
   "cell_type": "code",
   "execution_count": 69,
   "id": "e2eb7459",
   "metadata": {
    "execution": {
     "iopub.execute_input": "2024-06-27T11:00:35.028867Z",
     "iopub.status.busy": "2024-06-27T11:00:35.028472Z",
     "iopub.status.idle": "2024-06-27T11:00:35.344520Z",
     "shell.execute_reply": "2024-06-27T11:00:35.343021Z"
    },
    "papermill": {
     "duration": 0.359067,
     "end_time": "2024-06-27T11:00:35.348071",
     "exception": false,
     "start_time": "2024-06-27T11:00:34.989004",
     "status": "completed"
    },
    "tags": []
   },
   "outputs": [],
   "source": [
    "# creating the model:\n",
    "\n",
    "y = df[\"Outcome\"] # target\n",
    "X = df.drop(\"Outcome\", axis=1) # train data\n",
    "\n",
    "X_train, X_test, y_train, y_test = train_test_split(X, y, test_size=0.30, random_state=24) # split the data\n",
    "\n",
    "rf_model = RandomForestClassifier(random_state=24).fit(X_train, y_train) # fitting model"
   ]
  },
  {
   "cell_type": "code",
   "execution_count": 70,
   "id": "00fd13eb",
   "metadata": {
    "execution": {
     "iopub.execute_input": "2024-06-27T11:00:35.428427Z",
     "iopub.status.busy": "2024-06-27T11:00:35.428016Z",
     "iopub.status.idle": "2024-06-27T11:00:35.447773Z",
     "shell.execute_reply": "2024-06-27T11:00:35.446343Z"
    },
    "papermill": {
     "duration": 0.063918,
     "end_time": "2024-06-27T11:00:35.450625",
     "exception": false,
     "start_time": "2024-06-27T11:00:35.386707",
     "status": "completed"
    },
    "tags": []
   },
   "outputs": [],
   "source": [
    "# prediction:\n",
    "\n",
    "y_pred = rf_model.predict(X_test)"
   ]
  },
  {
   "cell_type": "markdown",
   "id": "a60f7970",
   "metadata": {
    "papermill": {
     "duration": 0.037615,
     "end_time": "2024-06-27T11:00:35.526044",
     "exception": false,
     "start_time": "2024-06-27T11:00:35.488429",
     "status": "completed"
    },
    "tags": []
   },
   "source": [
    "## 7. Model Performance Evaluation"
   ]
  },
  {
   "cell_type": "code",
   "execution_count": 71,
   "id": "27c77652",
   "metadata": {
    "execution": {
     "iopub.execute_input": "2024-06-27T11:00:35.605115Z",
     "iopub.status.busy": "2024-06-27T11:00:35.603844Z",
     "iopub.status.idle": "2024-06-27T11:00:35.623116Z",
     "shell.execute_reply": "2024-06-27T11:00:35.621602Z"
    },
    "papermill": {
     "duration": 0.062662,
     "end_time": "2024-06-27T11:00:35.626660",
     "exception": false,
     "start_time": "2024-06-27T11:00:35.563998",
     "status": "completed"
    },
    "tags": []
   },
   "outputs": [
    {
     "name": "stdout",
     "output_type": "stream",
     "text": [
      "Accuracy: 0.68\n",
      "Recall: 0.619\n",
      "Precision: 0.44\n",
      "F1: 0.52\n",
      "Auc: 0.66\n"
     ]
    }
   ],
   "source": [
    "# validation metrics:\n",
    "\n",
    "print(f\"Accuracy: {round(accuracy_score(y_pred, y_test), 2)}\")\n",
    "print(f\"Recall: {round(recall_score(y_pred,y_test),3)}\")\n",
    "print(f\"Precision: {round(precision_score(y_pred,y_test), 2)}\")\n",
    "print(f\"F1: {round(f1_score(y_pred,y_test), 2)}\")\n",
    "print(f\"Auc: {round(roc_auc_score(y_pred,y_test), 2)}\")"
   ]
  },
  {
   "cell_type": "markdown",
   "id": "56583c69",
   "metadata": {
    "papermill": {
     "duration": 0.038463,
     "end_time": "2024-06-27T11:00:35.706532",
     "exception": false,
     "start_time": "2024-06-27T11:00:35.668069",
     "status": "completed"
    },
    "tags": []
   },
   "source": [
    "## 8. Feature Importance"
   ]
  },
  {
   "cell_type": "code",
   "execution_count": 72,
   "id": "33b75587",
   "metadata": {
    "execution": {
     "iopub.execute_input": "2024-06-27T11:00:35.784983Z",
     "iopub.status.busy": "2024-06-27T11:00:35.784539Z",
     "iopub.status.idle": "2024-06-27T11:00:37.097699Z",
     "shell.execute_reply": "2024-06-27T11:00:37.096352Z"
    },
    "papermill": {
     "duration": 1.359538,
     "end_time": "2024-06-27T11:00:37.104069",
     "exception": false,
     "start_time": "2024-06-27T11:00:35.744531",
     "status": "completed"
    },
    "tags": []
   },
   "outputs": [
    {
     "name": "stdout",
     "output_type": "stream",
     "text": [
      "    Value                                            Feature\n",
      "1   0.161                                            Glucose\n",
      "8   0.126                                New_Glucose*Insulin\n",
      "9   0.085                            New_Glucose*Pregnancies\n",
      "5   0.073                                                BMI\n",
      "7   0.072                                                Age\n",
      "6   0.068                           DiabetesPedigreeFunction\n",
      "4   0.052                                            Insulin\n",
      "0   0.043                                        Pregnancies\n",
      "2   0.043                                      BloodPressure\n",
      "3   0.042                                      SkinThickness\n",
      "47  0.023                                      New_BMI_Obese\n",
      "26  0.020   New_Insulin_Glucose_mid insulin and high glucose\n",
      "13  0.010           New_Age_Pregnancies_senior and high preg\n",
      "36  0.010  New_BloodPressure_BMI_mid BloodPressure and mi...\n",
      "30  0.009  New_BloodPressure_BMI_high BloodPressure and m...\n",
      "27  0.008    New_Insulin_Glucose_mid insulin and low glucose\n",
      "45  0.008                                    New_BMI_Healthy\n",
      "22  0.008   New_Insulin_Glucose_high insulin and mid glucose\n",
      "28  0.008    New_Insulin_Glucose_mid insulin and mid glucose\n",
      "33  0.007  New_BloodPressure_BMI_low BloodPressure and mi...\n",
      "15  0.007            New_Age_Pregnancies_senior and mid preg\n",
      "46  0.007                                 New_BMI_Overweight\n",
      "44  0.007  New_SkinThickness_Insulin_mid SkinThickness an...\n",
      "35  0.007  New_BloodPressure_BMI_mid BloodPressure and lo...\n",
      "19  0.007             New_Age_Pregnancies_young and mid preg\n",
      "24  0.006    New_Insulin_Glucose_low insulin and low glucose\n",
      "10  0.006            New_Age_Pregnancies_mature and low preg\n",
      "18  0.006             New_Age_Pregnancies_young and low preg\n",
      "39  0.005  New_SkinThickness_Insulin_low SkinThickness an...\n",
      "34  0.005  New_BloodPressure_BMI_mid BloodPressure and hi...\n",
      "40  0.005  New_SkinThickness_Insulin_low SkinThickness an...\n",
      "11  0.005            New_Age_Pregnancies_mature and mid preg\n",
      "37  0.005  New_SkinThickness_Insulin_high SkinThickness a...\n",
      "32  0.005  New_BloodPressure_BMI_low BloodPressure and lo...\n",
      "42  0.004  New_SkinThickness_Insulin_mid SkinThickness an...\n",
      "38  0.004  New_SkinThickness_Insulin_high SkinThickness a...\n",
      "16  0.004             New_Age_Pregnancies_senior and no preg\n",
      "23  0.004   New_Insulin_Glucose_low insulin and high glucose\n",
      "25  0.003    New_Insulin_Glucose_low insulin and mid glucose\n",
      "43  0.003  New_SkinThickness_Insulin_mid SkinThickness an...\n",
      "20  0.003              New_Age_Pregnancies_young and no preg\n",
      "14  0.003            New_Age_Pregnancies_senior and low preg\n",
      "12  0.003             New_Age_Pregnancies_mature and no preg\n",
      "21  0.002   New_Insulin_Glucose_high insulin and low glucose\n",
      "41  0.002  New_SkinThickness_Insulin_low SkinThickness an...\n",
      "31  0.002  New_BloodPressure_BMI_low BloodPressure and hi...\n",
      "29  0.001  New_BloodPressure_BMI_high BloodPressure and l...\n",
      "17  0.001            New_Age_Pregnancies_young and high preg\n"
     ]
    },
    {
     "data": {
      "image/png": "[encoded data removed]",
      "text/plain": [
       "<Figure size 1000x1000 with 1 Axes>"
      ]
     },
     "metadata": {},
     "output_type": "display_data"
    }
   ],
   "source": [
    "# creating function to visualize:\n",
    "\n",
    "def plot_importance(model, features, num=len(X), save=False):\n",
    "    feature_imp = pd.DataFrame({'Value': model.feature_importances_, 'Feature': features.columns})\n",
    "    print(feature_imp.sort_values(\"Value\",ascending=False))\n",
    "    plt.figure(figsize=(10, 10))\n",
    "    sns.set(font_scale=1)\n",
    "    sns.barplot(x=\"Value\", y=\"Feature\", data=feature_imp.sort_values(by=\"Value\",\n",
    "                                                                     ascending=False)[0:num])\n",
    "    plt.title('Features')\n",
    "    plt.tight_layout()\n",
    "    plt.show()\n",
    "    if save:\n",
    "        plt.savefig('importances.png')\n",
    "\n",
    "plot_importance(rf_model, X)"
   ]
  }
 ],
 "metadata": {
  "kaggle": {
   "accelerator": "none",
   "dataSources": [
    {
     "datasetId": 5289748,
     "sourceId": 8797031,
     "sourceType": "datasetVersion"
    }
   ],
   "dockerImageVersionId": 30732,
   "isGpuEnabled": false,
   "isInternetEnabled": true,
   "language": "python",
   "sourceType": "notebook"
  },
  "kernelspec": {
   "display_name": "Python 3",
   "language": "python",
   "name": "python3"
  },
  "language_info": {
   "codemirror_mode": {
    "name": "ipython",
    "version": 3
   },
   "file_extension": ".py",
   "mimetype": "text/x-python",
   "name": "python",
   "nbconvert_exporter": "python",
   "pygments_lexer": "ipython3",
   "version": "3.10.13"
  },
  "papermill": {
   "default_parameters": {},
   "duration": 24.961703,
   "end_time": "2024-06-27T11:00:37.870558",
   "environment_variables": {},
   "exception": null,
   "input_path": "__notebook__.ipynb",
   "output_path": "__notebook__.ipynb",
   "parameters": {},
   "start_time": "2024-06-27T11:00:12.908855",
   "version": "2.5.0"
  }
 },
 "nbformat": 4,
 "nbformat_minor": 5
}
